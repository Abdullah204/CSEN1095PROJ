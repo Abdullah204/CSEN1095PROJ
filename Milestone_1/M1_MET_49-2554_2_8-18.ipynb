{
 "cells": [
  {
   "cell_type": "markdown",
   "metadata": {},
   "source": [
    "# Milestone 1 - EDA and Preprocessing data "
   ]
  },
  {
   "cell_type": "markdown",
   "metadata": {},
   "source": [
    "- Cleaning the data\n",
    "    - Observe,comment on and handle inconsistent data.(i.e duplicates, irrelevant data,incorrect data,etc)\n",
    "    - Observe missing data and comment on why you believe it is missing(MCAR,MAR or MNAR).\n",
    "    - Handle missing data\n",
    "    - Observe and comment on outliers\n",
    "    - Handle outliers\n",
    "- With every change you are making to the data you need to comment on why you used this technique and how has it affected the data(by both showing the change in the data i.e change in number of rows/columns,change in distrubution, etc and commenting on it).\n",
    "- Data transformation and feature engineering\n",
    "    - Add 2 new columns named 'Week number' and 'Date range' and discretize the data into weeks according to the dates. \n",
    "        - Tip: Change the datatype of the date feature to datetime type instead of object.\n",
    "    - Encode any categorical feature(s) and comment on why you used this technique and how the data has changed.\n",
    "    - If exists , Identify feature(s) which need normalization and show your reasoning. Then choose a technique to normalize the feature(s) and comment on why you chose this technique.\n",
    "- Additional data extraction\n",
    "    - Add GPS coordinates for the cities/locations.\n",
    "    - For this task you can extract the GPS coordinates from an API or web scraping and integrate into your csv file as new features. \n",
    "    - Tip 1 - you can find the web scraping and data integration notebooks under 'additional resources'  on the CMS useful.\n",
    "    - Tip 2 - If you are going to use an API make sure you do not make request for each existing row but rather group by the cities and get their respective coordinates. Making a request for each row is too inefficient and expensive.\n",
    "    - Tip 3 - Rather than running the code for calling the API each time you load the notebook, the first time you call the API save the results in a csv file and then you could you check if a csv file exists for the GPS coordinates, if so, load directly and don't call APi. Same applies for web scraping.\n",
    "\n",
    "- Lookup table and load back into new csv file\n",
    "    - Create a lookup table\n",
    "    - Load the new dataset into a new csv file named `green_trip_data_{year}-{month}clean.csv`. replace year and month with the appropriate values.\n",
    "    - Load the lookup table to a csv file called `lookup_table_green_taxis.csv` \n",
    "- Bonus: Load the dataset as a parquet file instead of a csv file(Parquet file is a compressed file format)."
   ]
  },
  {
   "cell_type": "markdown",
   "metadata": {},
   "source": [
    "# 1 - Extraction"
   ]
  },
  {
   "cell_type": "code",
   "execution_count": 2,
   "metadata": {},
   "outputs": [],
   "source": [
    "import pandas as pd\n",
    "import numpy as np\n",
    "import matplotlib.pyplot as plt\n",
    "import seaborn as sns"
   ]
  },
  {
   "cell_type": "code",
   "execution_count": 3,
   "metadata": {},
   "outputs": [],
   "source": [
    "def read_data(data_path):\n",
    "    return pd.read_csv(data_path + \"green_tripdata_2018-08.csv\")\n",
    "    # df = pd.read_csv(data_path + \"/titanic.csv\",index_col=0)\n"
   ]
  },
  {
   "cell_type": "code",
   "execution_count": 4,
   "metadata": {},
   "outputs": [],
   "source": [
    "data_path = \"../data/\"\n",
    "df = read_data(data_path=data_path)\n"
   ]
  },
  {
   "cell_type": "code",
   "execution_count": 5,
   "metadata": {},
   "outputs": [
    {
     "data": {
      "text/html": [
       "<div>\n",
       "<style scoped>\n",
       "    .dataframe tbody tr th:only-of-type {\n",
       "        vertical-align: middle;\n",
       "    }\n",
       "\n",
       "    .dataframe tbody tr th {\n",
       "        vertical-align: top;\n",
       "    }\n",
       "\n",
       "    .dataframe thead th {\n",
       "        text-align: right;\n",
       "    }\n",
       "</style>\n",
       "<table border=\"1\" class=\"dataframe\">\n",
       "  <thead>\n",
       "    <tr style=\"text-align: right;\">\n",
       "      <th></th>\n",
       "      <th>Vendor</th>\n",
       "      <th>lpep pickup datetime</th>\n",
       "      <th>lpep dropoff datetime</th>\n",
       "      <th>store and fwd flag</th>\n",
       "      <th>Rate type</th>\n",
       "      <th>PU Location</th>\n",
       "      <th>DO Location</th>\n",
       "      <th>passenger count</th>\n",
       "      <th>trip distance</th>\n",
       "      <th>fare amount</th>\n",
       "      <th>extra</th>\n",
       "      <th>mta tax</th>\n",
       "      <th>tip amount</th>\n",
       "      <th>tolls amount</th>\n",
       "      <th>ehail fee</th>\n",
       "      <th>improvement surcharge</th>\n",
       "      <th>total amount</th>\n",
       "      <th>payment type</th>\n",
       "      <th>trip type</th>\n",
       "      <th>congestion surcharge</th>\n",
       "    </tr>\n",
       "  </thead>\n",
       "  <tbody>\n",
       "    <tr>\n",
       "      <th>0</th>\n",
       "      <td>VeriFone Inc.</td>\n",
       "      <td>2018-08-01 00:03:22</td>\n",
       "      <td>2018-08-01 00:17:59</td>\n",
       "      <td>N</td>\n",
       "      <td>Standard rate</td>\n",
       "      <td>Brooklyn,Williamsburg (North Side)</td>\n",
       "      <td>Brooklyn,Clinton Hill</td>\n",
       "      <td>1.0</td>\n",
       "      <td>3.54</td>\n",
       "      <td>13.5</td>\n",
       "      <td>0.5</td>\n",
       "      <td>0.5</td>\n",
       "      <td>2.96</td>\n",
       "      <td>0.0</td>\n",
       "      <td>NaN</td>\n",
       "      <td>0.3</td>\n",
       "      <td>17.76</td>\n",
       "      <td>Credit card</td>\n",
       "      <td>Street-hail</td>\n",
       "      <td>NaN</td>\n",
       "    </tr>\n",
       "    <tr>\n",
       "      <th>1</th>\n",
       "      <td>VeriFone Inc.</td>\n",
       "      <td>2018-08-01 00:37:08</td>\n",
       "      <td>2018-08-01 00:46:53</td>\n",
       "      <td>N</td>\n",
       "      <td>Standard rate</td>\n",
       "      <td>Brooklyn,Williamsburg (South Side)</td>\n",
       "      <td>Brooklyn,Greenpoint</td>\n",
       "      <td>1.0</td>\n",
       "      <td>1.94</td>\n",
       "      <td>8.5</td>\n",
       "      <td>0.5</td>\n",
       "      <td>0.5</td>\n",
       "      <td>1.96</td>\n",
       "      <td>0.0</td>\n",
       "      <td>NaN</td>\n",
       "      <td>0.3</td>\n",
       "      <td>11.76</td>\n",
       "      <td>Credit card</td>\n",
       "      <td>Street-hail</td>\n",
       "      <td>NaN</td>\n",
       "    </tr>\n",
       "    <tr>\n",
       "      <th>2</th>\n",
       "      <td>VeriFone Inc.</td>\n",
       "      <td>2018-08-01 00:12:45</td>\n",
       "      <td>2018-08-01 00:20:21</td>\n",
       "      <td>N</td>\n",
       "      <td>Standard rate</td>\n",
       "      <td>Queens,Long Island City/Queens Plaza</td>\n",
       "      <td>Queens,Astoria</td>\n",
       "      <td>2.0</td>\n",
       "      <td>1.37</td>\n",
       "      <td>7.0</td>\n",
       "      <td>0.5</td>\n",
       "      <td>0.5</td>\n",
       "      <td>0.00</td>\n",
       "      <td>0.0</td>\n",
       "      <td>NaN</td>\n",
       "      <td>0.3</td>\n",
       "      <td>8.30</td>\n",
       "      <td>Cash</td>\n",
       "      <td>Street-hail</td>\n",
       "      <td>NaN</td>\n",
       "    </tr>\n",
       "    <tr>\n",
       "      <th>3</th>\n",
       "      <td>VeriFone Inc.</td>\n",
       "      <td>2018-08-01 00:21:29</td>\n",
       "      <td>2018-08-01 00:27:41</td>\n",
       "      <td>N</td>\n",
       "      <td>Standard rate</td>\n",
       "      <td>Queens,Astoria</td>\n",
       "      <td>Queens,Woodside</td>\n",
       "      <td>2.0</td>\n",
       "      <td>1.10</td>\n",
       "      <td>6.5</td>\n",
       "      <td>0.5</td>\n",
       "      <td>0.5</td>\n",
       "      <td>0.00</td>\n",
       "      <td>0.0</td>\n",
       "      <td>NaN</td>\n",
       "      <td>0.3</td>\n",
       "      <td>7.80</td>\n",
       "      <td>Cash</td>\n",
       "      <td>Street-hail</td>\n",
       "      <td>NaN</td>\n",
       "    </tr>\n",
       "    <tr>\n",
       "      <th>4</th>\n",
       "      <td>VeriFone Inc.</td>\n",
       "      <td>2018-08-01 00:03:24</td>\n",
       "      <td>2018-08-01 00:06:44</td>\n",
       "      <td>N</td>\n",
       "      <td>Standard rate</td>\n",
       "      <td>Brooklyn,Williamsburg (South Side)</td>\n",
       "      <td>Brooklyn,Williamsburg (South Side)</td>\n",
       "      <td>1.0</td>\n",
       "      <td>0.56</td>\n",
       "      <td>4.5</td>\n",
       "      <td>0.5</td>\n",
       "      <td>0.5</td>\n",
       "      <td>1.74</td>\n",
       "      <td>0.0</td>\n",
       "      <td>NaN</td>\n",
       "      <td>0.3</td>\n",
       "      <td>7.54</td>\n",
       "      <td>Credit card</td>\n",
       "      <td>Street-hail</td>\n",
       "      <td>NaN</td>\n",
       "    </tr>\n",
       "  </tbody>\n",
       "</table>\n",
       "</div>"
      ],
      "text/plain": [
       "          Vendor lpep pickup datetime lpep dropoff datetime  \\\n",
       "0  VeriFone Inc.  2018-08-01 00:03:22   2018-08-01 00:17:59   \n",
       "1  VeriFone Inc.  2018-08-01 00:37:08   2018-08-01 00:46:53   \n",
       "2  VeriFone Inc.  2018-08-01 00:12:45   2018-08-01 00:20:21   \n",
       "3  VeriFone Inc.  2018-08-01 00:21:29   2018-08-01 00:27:41   \n",
       "4  VeriFone Inc.  2018-08-01 00:03:24   2018-08-01 00:06:44   \n",
       "\n",
       "  store and fwd flag      Rate type                           PU Location  \\\n",
       "0                  N  Standard rate    Brooklyn,Williamsburg (North Side)   \n",
       "1                  N  Standard rate    Brooklyn,Williamsburg (South Side)   \n",
       "2                  N  Standard rate  Queens,Long Island City/Queens Plaza   \n",
       "3                  N  Standard rate                        Queens,Astoria   \n",
       "4                  N  Standard rate    Brooklyn,Williamsburg (South Side)   \n",
       "\n",
       "                          DO Location  passenger count  trip distance  \\\n",
       "0               Brooklyn,Clinton Hill              1.0           3.54   \n",
       "1                 Brooklyn,Greenpoint              1.0           1.94   \n",
       "2                      Queens,Astoria              2.0           1.37   \n",
       "3                     Queens,Woodside              2.0           1.10   \n",
       "4  Brooklyn,Williamsburg (South Side)              1.0           0.56   \n",
       "\n",
       "   fare amount  extra  mta tax  tip amount  tolls amount  ehail fee  \\\n",
       "0         13.5    0.5      0.5        2.96           0.0        NaN   \n",
       "1          8.5    0.5      0.5        1.96           0.0        NaN   \n",
       "2          7.0    0.5      0.5        0.00           0.0        NaN   \n",
       "3          6.5    0.5      0.5        0.00           0.0        NaN   \n",
       "4          4.5    0.5      0.5        1.74           0.0        NaN   \n",
       "\n",
       "   improvement surcharge  total amount payment type    trip type  \\\n",
       "0                    0.3         17.76  Credit card  Street-hail   \n",
       "1                    0.3         11.76  Credit card  Street-hail   \n",
       "2                    0.3          8.30         Cash  Street-hail   \n",
       "3                    0.3          7.80         Cash  Street-hail   \n",
       "4                    0.3          7.54  Credit card  Street-hail   \n",
       "\n",
       "   congestion surcharge  \n",
       "0                   NaN  \n",
       "1                   NaN  \n",
       "2                   NaN  \n",
       "3                   NaN  \n",
       "4                   NaN  "
      ]
     },
     "execution_count": 5,
     "metadata": {},
     "output_type": "execute_result"
    }
   ],
   "source": [
    "# just to make sure data is read correctly\n",
    "df.head()"
   ]
  },
  {
   "cell_type": "code",
   "execution_count": 6,
   "metadata": {},
   "outputs": [
    {
     "data": {
      "text/plain": [
       "Vendor                        2\n",
       "lpep pickup datetime     576465\n",
       "lpep dropoff datetime    576720\n",
       "store and fwd flag            2\n",
       "Rate type                     7\n",
       "PU Location                 238\n",
       "DO Location                 259\n",
       "passenger count              10\n",
       "trip distance              3243\n",
       "fare amount                4000\n",
       "extra                        11\n",
       "mta tax                       3\n",
       "tip amount                 1631\n",
       "tolls amount                 95\n",
       "ehail fee                     0\n",
       "improvement surcharge         3\n",
       "total amount               6505\n",
       "payment type                  6\n",
       "trip type                     3\n",
       "congestion surcharge          0\n",
       "dtype: int64"
      ]
     },
     "execution_count": 6,
     "metadata": {},
     "output_type": "execute_result"
    }
   ],
   "source": [
    "df.nunique()"
   ]
  },
  {
   "cell_type": "code",
   "execution_count": 7,
   "metadata": {},
   "outputs": [
    {
     "data": {
      "text/plain": [
       "Vendor                   675826\n",
       "lpep pickup datetime      99363\n",
       "lpep dropoff datetime     99108\n",
       "store and fwd flag       675826\n",
       "Rate type                675821\n",
       "PU Location              675590\n",
       "DO Location              675569\n",
       "passenger count          675818\n",
       "trip distance            672585\n",
       "fare amount              671828\n",
       "extra                    675817\n",
       "mta tax                  675825\n",
       "tip amount               674197\n",
       "tolls amount             675733\n",
       "ehail fee                675828\n",
       "improvement surcharge    675825\n",
       "total amount             669323\n",
       "payment type             675822\n",
       "trip type                675825\n",
       "congestion surcharge     675828\n",
       "dtype: int64"
      ]
     },
     "execution_count": 7,
     "metadata": {},
     "output_type": "execute_result"
    }
   ],
   "source": [
    "df.shape[0] - df.nunique()"
   ]
  },
  {
   "cell_type": "markdown",
   "metadata": {},
   "source": [
    "This Means no Feature can be used as index because no feature has unique value for each row. Additionally, there is no feature representing trip ID."
   ]
  },
  {
   "cell_type": "markdown",
   "metadata": {},
   "source": []
  },
  {
   "cell_type": "code",
   "execution_count": null,
   "metadata": {},
   "outputs": [],
   "source": []
  },
  {
   "cell_type": "markdown",
   "metadata": {},
   "source": [
    "# 2- EDA"
   ]
  },
  {
   "cell_type": "markdown",
   "metadata": {},
   "source": [
    "### Main Explorations"
   ]
  },
  {
   "cell_type": "code",
   "execution_count": 8,
   "metadata": {},
   "outputs": [
    {
     "data": {
      "text/plain": [
       "Index(['Vendor', 'lpep pickup datetime', 'lpep dropoff datetime',\n",
       "       'store and fwd flag', 'Rate type', 'PU Location', 'DO Location',\n",
       "       'passenger count', 'trip distance', 'fare amount', 'extra', 'mta tax',\n",
       "       'tip amount', 'tolls amount', 'ehail fee', 'improvement surcharge',\n",
       "       'total amount', 'payment type', 'trip type', 'congestion surcharge'],\n",
       "      dtype='object')"
      ]
     },
     "execution_count": 8,
     "metadata": {},
     "output_type": "execute_result"
    }
   ],
   "source": [
    "df.columns"
   ]
  },
  {
   "cell_type": "code",
   "execution_count": 9,
   "metadata": {},
   "outputs": [
    {
     "data": {
      "text/plain": [
       "(675828, 20)"
      ]
     },
     "execution_count": 9,
     "metadata": {},
     "output_type": "execute_result"
    }
   ],
   "source": [
    "df.shape"
   ]
  },
  {
   "cell_type": "code",
   "execution_count": 10,
   "metadata": {},
   "outputs": [
    {
     "name": "stdout",
     "output_type": "stream",
     "text": [
      "<class 'pandas.core.frame.DataFrame'>\n",
      "RangeIndex: 675828 entries, 0 to 675827\n",
      "Data columns (total 20 columns):\n",
      " #   Column                 Non-Null Count   Dtype  \n",
      "---  ------                 --------------   -----  \n",
      " 0   Vendor                 675828 non-null  object \n",
      " 1   lpep pickup datetime   675828 non-null  object \n",
      " 2   lpep dropoff datetime  675828 non-null  object \n",
      " 3   store and fwd flag     665648 non-null  object \n",
      " 4   Rate type              675828 non-null  object \n",
      " 5   PU Location            675828 non-null  object \n",
      " 6   DO Location            675828 non-null  object \n",
      " 7   passenger count        664797 non-null  float64\n",
      " 8   trip distance          675828 non-null  float64\n",
      " 9   fare amount            675828 non-null  float64\n",
      " 10  extra                  327669 non-null  float64\n",
      " 11  mta tax                675828 non-null  float64\n",
      " 12  tip amount             675828 non-null  float64\n",
      " 13  tolls amount           675828 non-null  float64\n",
      " 14  ehail fee              0 non-null       float64\n",
      " 15  improvement surcharge  675828 non-null  float64\n",
      " 16  total amount           675828 non-null  float64\n",
      " 17  payment type           656527 non-null  object \n",
      " 18  trip type              675828 non-null  object \n",
      " 19  congestion surcharge   0 non-null       float64\n",
      "dtypes: float64(11), object(9)\n",
      "memory usage: 103.1+ MB\n"
     ]
    }
   ],
   "source": [
    "df.info()"
   ]
  },
  {
   "cell_type": "code",
   "execution_count": 11,
   "metadata": {},
   "outputs": [
    {
     "data": {
      "text/html": [
       "<div>\n",
       "<style scoped>\n",
       "    .dataframe tbody tr th:only-of-type {\n",
       "        vertical-align: middle;\n",
       "    }\n",
       "\n",
       "    .dataframe tbody tr th {\n",
       "        vertical-align: top;\n",
       "    }\n",
       "\n",
       "    .dataframe thead th {\n",
       "        text-align: right;\n",
       "    }\n",
       "</style>\n",
       "<table border=\"1\" class=\"dataframe\">\n",
       "  <thead>\n",
       "    <tr style=\"text-align: right;\">\n",
       "      <th></th>\n",
       "      <th>Vendor</th>\n",
       "      <th>lpep pickup datetime</th>\n",
       "      <th>lpep dropoff datetime</th>\n",
       "      <th>store and fwd flag</th>\n",
       "      <th>Rate type</th>\n",
       "      <th>PU Location</th>\n",
       "      <th>DO Location</th>\n",
       "      <th>passenger count</th>\n",
       "      <th>trip distance</th>\n",
       "      <th>fare amount</th>\n",
       "      <th>extra</th>\n",
       "      <th>mta tax</th>\n",
       "      <th>tip amount</th>\n",
       "      <th>tolls amount</th>\n",
       "      <th>ehail fee</th>\n",
       "      <th>improvement surcharge</th>\n",
       "      <th>total amount</th>\n",
       "      <th>payment type</th>\n",
       "      <th>trip type</th>\n",
       "      <th>congestion surcharge</th>\n",
       "    </tr>\n",
       "  </thead>\n",
       "  <tbody>\n",
       "    <tr>\n",
       "      <th>0</th>\n",
       "      <td>VeriFone Inc.</td>\n",
       "      <td>2018-08-01 00:03:22</td>\n",
       "      <td>2018-08-01 00:17:59</td>\n",
       "      <td>N</td>\n",
       "      <td>Standard rate</td>\n",
       "      <td>Brooklyn,Williamsburg (North Side)</td>\n",
       "      <td>Brooklyn,Clinton Hill</td>\n",
       "      <td>1.0</td>\n",
       "      <td>3.54</td>\n",
       "      <td>13.5</td>\n",
       "      <td>0.5</td>\n",
       "      <td>0.5</td>\n",
       "      <td>2.96</td>\n",
       "      <td>0.0</td>\n",
       "      <td>NaN</td>\n",
       "      <td>0.3</td>\n",
       "      <td>17.76</td>\n",
       "      <td>Credit card</td>\n",
       "      <td>Street-hail</td>\n",
       "      <td>NaN</td>\n",
       "    </tr>\n",
       "    <tr>\n",
       "      <th>1</th>\n",
       "      <td>VeriFone Inc.</td>\n",
       "      <td>2018-08-01 00:37:08</td>\n",
       "      <td>2018-08-01 00:46:53</td>\n",
       "      <td>N</td>\n",
       "      <td>Standard rate</td>\n",
       "      <td>Brooklyn,Williamsburg (South Side)</td>\n",
       "      <td>Brooklyn,Greenpoint</td>\n",
       "      <td>1.0</td>\n",
       "      <td>1.94</td>\n",
       "      <td>8.5</td>\n",
       "      <td>0.5</td>\n",
       "      <td>0.5</td>\n",
       "      <td>1.96</td>\n",
       "      <td>0.0</td>\n",
       "      <td>NaN</td>\n",
       "      <td>0.3</td>\n",
       "      <td>11.76</td>\n",
       "      <td>Credit card</td>\n",
       "      <td>Street-hail</td>\n",
       "      <td>NaN</td>\n",
       "    </tr>\n",
       "    <tr>\n",
       "      <th>2</th>\n",
       "      <td>VeriFone Inc.</td>\n",
       "      <td>2018-08-01 00:12:45</td>\n",
       "      <td>2018-08-01 00:20:21</td>\n",
       "      <td>N</td>\n",
       "      <td>Standard rate</td>\n",
       "      <td>Queens,Long Island City/Queens Plaza</td>\n",
       "      <td>Queens,Astoria</td>\n",
       "      <td>2.0</td>\n",
       "      <td>1.37</td>\n",
       "      <td>7.0</td>\n",
       "      <td>0.5</td>\n",
       "      <td>0.5</td>\n",
       "      <td>0.00</td>\n",
       "      <td>0.0</td>\n",
       "      <td>NaN</td>\n",
       "      <td>0.3</td>\n",
       "      <td>8.30</td>\n",
       "      <td>Cash</td>\n",
       "      <td>Street-hail</td>\n",
       "      <td>NaN</td>\n",
       "    </tr>\n",
       "    <tr>\n",
       "      <th>3</th>\n",
       "      <td>VeriFone Inc.</td>\n",
       "      <td>2018-08-01 00:21:29</td>\n",
       "      <td>2018-08-01 00:27:41</td>\n",
       "      <td>N</td>\n",
       "      <td>Standard rate</td>\n",
       "      <td>Queens,Astoria</td>\n",
       "      <td>Queens,Woodside</td>\n",
       "      <td>2.0</td>\n",
       "      <td>1.10</td>\n",
       "      <td>6.5</td>\n",
       "      <td>0.5</td>\n",
       "      <td>0.5</td>\n",
       "      <td>0.00</td>\n",
       "      <td>0.0</td>\n",
       "      <td>NaN</td>\n",
       "      <td>0.3</td>\n",
       "      <td>7.80</td>\n",
       "      <td>Cash</td>\n",
       "      <td>Street-hail</td>\n",
       "      <td>NaN</td>\n",
       "    </tr>\n",
       "    <tr>\n",
       "      <th>4</th>\n",
       "      <td>VeriFone Inc.</td>\n",
       "      <td>2018-08-01 00:03:24</td>\n",
       "      <td>2018-08-01 00:06:44</td>\n",
       "      <td>N</td>\n",
       "      <td>Standard rate</td>\n",
       "      <td>Brooklyn,Williamsburg (South Side)</td>\n",
       "      <td>Brooklyn,Williamsburg (South Side)</td>\n",
       "      <td>1.0</td>\n",
       "      <td>0.56</td>\n",
       "      <td>4.5</td>\n",
       "      <td>0.5</td>\n",
       "      <td>0.5</td>\n",
       "      <td>1.74</td>\n",
       "      <td>0.0</td>\n",
       "      <td>NaN</td>\n",
       "      <td>0.3</td>\n",
       "      <td>7.54</td>\n",
       "      <td>Credit card</td>\n",
       "      <td>Street-hail</td>\n",
       "      <td>NaN</td>\n",
       "    </tr>\n",
       "  </tbody>\n",
       "</table>\n",
       "</div>"
      ],
      "text/plain": [
       "          Vendor lpep pickup datetime lpep dropoff datetime  \\\n",
       "0  VeriFone Inc.  2018-08-01 00:03:22   2018-08-01 00:17:59   \n",
       "1  VeriFone Inc.  2018-08-01 00:37:08   2018-08-01 00:46:53   \n",
       "2  VeriFone Inc.  2018-08-01 00:12:45   2018-08-01 00:20:21   \n",
       "3  VeriFone Inc.  2018-08-01 00:21:29   2018-08-01 00:27:41   \n",
       "4  VeriFone Inc.  2018-08-01 00:03:24   2018-08-01 00:06:44   \n",
       "\n",
       "  store and fwd flag      Rate type                           PU Location  \\\n",
       "0                  N  Standard rate    Brooklyn,Williamsburg (North Side)   \n",
       "1                  N  Standard rate    Brooklyn,Williamsburg (South Side)   \n",
       "2                  N  Standard rate  Queens,Long Island City/Queens Plaza   \n",
       "3                  N  Standard rate                        Queens,Astoria   \n",
       "4                  N  Standard rate    Brooklyn,Williamsburg (South Side)   \n",
       "\n",
       "                          DO Location  passenger count  trip distance  \\\n",
       "0               Brooklyn,Clinton Hill              1.0           3.54   \n",
       "1                 Brooklyn,Greenpoint              1.0           1.94   \n",
       "2                      Queens,Astoria              2.0           1.37   \n",
       "3                     Queens,Woodside              2.0           1.10   \n",
       "4  Brooklyn,Williamsburg (South Side)              1.0           0.56   \n",
       "\n",
       "   fare amount  extra  mta tax  tip amount  tolls amount  ehail fee  \\\n",
       "0         13.5    0.5      0.5        2.96           0.0        NaN   \n",
       "1          8.5    0.5      0.5        1.96           0.0        NaN   \n",
       "2          7.0    0.5      0.5        0.00           0.0        NaN   \n",
       "3          6.5    0.5      0.5        0.00           0.0        NaN   \n",
       "4          4.5    0.5      0.5        1.74           0.0        NaN   \n",
       "\n",
       "   improvement surcharge  total amount payment type    trip type  \\\n",
       "0                    0.3         17.76  Credit card  Street-hail   \n",
       "1                    0.3         11.76  Credit card  Street-hail   \n",
       "2                    0.3          8.30         Cash  Street-hail   \n",
       "3                    0.3          7.80         Cash  Street-hail   \n",
       "4                    0.3          7.54  Credit card  Street-hail   \n",
       "\n",
       "   congestion surcharge  \n",
       "0                   NaN  \n",
       "1                   NaN  \n",
       "2                   NaN  \n",
       "3                   NaN  \n",
       "4                   NaN  "
      ]
     },
     "execution_count": 11,
     "metadata": {},
     "output_type": "execute_result"
    }
   ],
   "source": [
    "df.head()"
   ]
  },
  {
   "cell_type": "code",
   "execution_count": 12,
   "metadata": {},
   "outputs": [
    {
     "data": {
      "text/html": [
       "<div>\n",
       "<style scoped>\n",
       "    .dataframe tbody tr th:only-of-type {\n",
       "        vertical-align: middle;\n",
       "    }\n",
       "\n",
       "    .dataframe tbody tr th {\n",
       "        vertical-align: top;\n",
       "    }\n",
       "\n",
       "    .dataframe thead th {\n",
       "        text-align: right;\n",
       "    }\n",
       "</style>\n",
       "<table border=\"1\" class=\"dataframe\">\n",
       "  <thead>\n",
       "    <tr style=\"text-align: right;\">\n",
       "      <th></th>\n",
       "      <th>Vendor</th>\n",
       "      <th>lpep pickup datetime</th>\n",
       "      <th>lpep dropoff datetime</th>\n",
       "      <th>store and fwd flag</th>\n",
       "      <th>Rate type</th>\n",
       "      <th>PU Location</th>\n",
       "      <th>DO Location</th>\n",
       "      <th>passenger count</th>\n",
       "      <th>trip distance</th>\n",
       "      <th>fare amount</th>\n",
       "      <th>extra</th>\n",
       "      <th>mta tax</th>\n",
       "      <th>tip amount</th>\n",
       "      <th>tolls amount</th>\n",
       "      <th>ehail fee</th>\n",
       "      <th>improvement surcharge</th>\n",
       "      <th>total amount</th>\n",
       "      <th>payment type</th>\n",
       "      <th>trip type</th>\n",
       "      <th>congestion surcharge</th>\n",
       "    </tr>\n",
       "  </thead>\n",
       "  <tbody>\n",
       "    <tr>\n",
       "      <th>675823</th>\n",
       "      <td>VeriFone Inc.</td>\n",
       "      <td>2018-08-13 16:18:21</td>\n",
       "      <td>2018-08-13 16:25:25</td>\n",
       "      <td>N</td>\n",
       "      <td>Standard rate</td>\n",
       "      <td>Queens,Astoria</td>\n",
       "      <td>Queens,Astoria</td>\n",
       "      <td>1.0</td>\n",
       "      <td>1.19</td>\n",
       "      <td>6.5</td>\n",
       "      <td>1.0</td>\n",
       "      <td>0.5</td>\n",
       "      <td>0.00</td>\n",
       "      <td>0.0</td>\n",
       "      <td>NaN</td>\n",
       "      <td>0.3</td>\n",
       "      <td>8.30</td>\n",
       "      <td>Cash</td>\n",
       "      <td>Street-hail</td>\n",
       "      <td>NaN</td>\n",
       "    </tr>\n",
       "    <tr>\n",
       "      <th>675824</th>\n",
       "      <td>VeriFone Inc.</td>\n",
       "      <td>2018-08-26 17:50:12</td>\n",
       "      <td>2018-08-26 18:08:50</td>\n",
       "      <td>N</td>\n",
       "      <td>Standard rate</td>\n",
       "      <td>Brooklyn,Coney Island</td>\n",
       "      <td>Brooklyn,Sunset Park West</td>\n",
       "      <td>1.0</td>\n",
       "      <td>7.61</td>\n",
       "      <td>23.5</td>\n",
       "      <td>NaN</td>\n",
       "      <td>0.5</td>\n",
       "      <td>4.86</td>\n",
       "      <td>0.0</td>\n",
       "      <td>NaN</td>\n",
       "      <td>0.3</td>\n",
       "      <td>29.16</td>\n",
       "      <td>Credit card</td>\n",
       "      <td>Street-hail</td>\n",
       "      <td>NaN</td>\n",
       "    </tr>\n",
       "    <tr>\n",
       "      <th>675825</th>\n",
       "      <td>VeriFone Inc.</td>\n",
       "      <td>2018-08-29 16:52:54</td>\n",
       "      <td>2018-08-29 16:58:10</td>\n",
       "      <td>N</td>\n",
       "      <td>Standard rate</td>\n",
       "      <td>Manhattan,Central Park</td>\n",
       "      <td>Manhattan,Central Park</td>\n",
       "      <td>5.0</td>\n",
       "      <td>1.09</td>\n",
       "      <td>6.0</td>\n",
       "      <td>1.0</td>\n",
       "      <td>0.5</td>\n",
       "      <td>1.56</td>\n",
       "      <td>0.0</td>\n",
       "      <td>NaN</td>\n",
       "      <td>0.3</td>\n",
       "      <td>9.36</td>\n",
       "      <td>Credit card</td>\n",
       "      <td>Street-hail</td>\n",
       "      <td>NaN</td>\n",
       "    </tr>\n",
       "    <tr>\n",
       "      <th>675826</th>\n",
       "      <td>Creative Mobile Technologies, LLC</td>\n",
       "      <td>2018-08-24 17:26:11</td>\n",
       "      <td>2018-08-24 17:37:26</td>\n",
       "      <td>N</td>\n",
       "      <td>Standard rate</td>\n",
       "      <td>Queens,Elmhurst</td>\n",
       "      <td>Queens,Jackson Heights</td>\n",
       "      <td>1.0</td>\n",
       "      <td>1.40</td>\n",
       "      <td>9.0</td>\n",
       "      <td>1.0</td>\n",
       "      <td>0.5</td>\n",
       "      <td>0.00</td>\n",
       "      <td>0.0</td>\n",
       "      <td>NaN</td>\n",
       "      <td>0.3</td>\n",
       "      <td>10.80</td>\n",
       "      <td>Cash</td>\n",
       "      <td>Street-hail</td>\n",
       "      <td>NaN</td>\n",
       "    </tr>\n",
       "    <tr>\n",
       "      <th>675827</th>\n",
       "      <td>VeriFone Inc.</td>\n",
       "      <td>2018-08-14 15:27:04</td>\n",
       "      <td>2018-08-14 15:30:24</td>\n",
       "      <td>N</td>\n",
       "      <td>Standard rate</td>\n",
       "      <td>Manhattan,Central Harlem</td>\n",
       "      <td>Manhattan,Central Harlem</td>\n",
       "      <td>1.0</td>\n",
       "      <td>0.34</td>\n",
       "      <td>4.0</td>\n",
       "      <td>NaN</td>\n",
       "      <td>0.5</td>\n",
       "      <td>0.00</td>\n",
       "      <td>0.0</td>\n",
       "      <td>NaN</td>\n",
       "      <td>0.3</td>\n",
       "      <td>4.80</td>\n",
       "      <td>Cash</td>\n",
       "      <td>Street-hail</td>\n",
       "      <td>NaN</td>\n",
       "    </tr>\n",
       "  </tbody>\n",
       "</table>\n",
       "</div>"
      ],
      "text/plain": [
       "                                   Vendor lpep pickup datetime  \\\n",
       "675823                      VeriFone Inc.  2018-08-13 16:18:21   \n",
       "675824                      VeriFone Inc.  2018-08-26 17:50:12   \n",
       "675825                      VeriFone Inc.  2018-08-29 16:52:54   \n",
       "675826  Creative Mobile Technologies, LLC  2018-08-24 17:26:11   \n",
       "675827                      VeriFone Inc.  2018-08-14 15:27:04   \n",
       "\n",
       "       lpep dropoff datetime store and fwd flag      Rate type  \\\n",
       "675823   2018-08-13 16:25:25                  N  Standard rate   \n",
       "675824   2018-08-26 18:08:50                  N  Standard rate   \n",
       "675825   2018-08-29 16:58:10                  N  Standard rate   \n",
       "675826   2018-08-24 17:37:26                  N  Standard rate   \n",
       "675827   2018-08-14 15:30:24                  N  Standard rate   \n",
       "\n",
       "                     PU Location                DO Location  passenger count  \\\n",
       "675823            Queens,Astoria             Queens,Astoria              1.0   \n",
       "675824     Brooklyn,Coney Island  Brooklyn,Sunset Park West              1.0   \n",
       "675825    Manhattan,Central Park     Manhattan,Central Park              5.0   \n",
       "675826           Queens,Elmhurst     Queens,Jackson Heights              1.0   \n",
       "675827  Manhattan,Central Harlem   Manhattan,Central Harlem              1.0   \n",
       "\n",
       "        trip distance  fare amount  extra  mta tax  tip amount  tolls amount  \\\n",
       "675823           1.19          6.5    1.0      0.5        0.00           0.0   \n",
       "675824           7.61         23.5    NaN      0.5        4.86           0.0   \n",
       "675825           1.09          6.0    1.0      0.5        1.56           0.0   \n",
       "675826           1.40          9.0    1.0      0.5        0.00           0.0   \n",
       "675827           0.34          4.0    NaN      0.5        0.00           0.0   \n",
       "\n",
       "        ehail fee  improvement surcharge  total amount payment type  \\\n",
       "675823        NaN                    0.3          8.30         Cash   \n",
       "675824        NaN                    0.3         29.16  Credit card   \n",
       "675825        NaN                    0.3          9.36  Credit card   \n",
       "675826        NaN                    0.3         10.80         Cash   \n",
       "675827        NaN                    0.3          4.80         Cash   \n",
       "\n",
       "          trip type  congestion surcharge  \n",
       "675823  Street-hail                   NaN  \n",
       "675824  Street-hail                   NaN  \n",
       "675825  Street-hail                   NaN  \n",
       "675826  Street-hail                   NaN  \n",
       "675827  Street-hail                   NaN  "
      ]
     },
     "execution_count": 12,
     "metadata": {},
     "output_type": "execute_result"
    }
   ],
   "source": [
    "df.tail()"
   ]
  },
  {
   "cell_type": "code",
   "execution_count": 13,
   "metadata": {},
   "outputs": [
    {
     "data": {
      "text/html": [
       "<div>\n",
       "<style scoped>\n",
       "    .dataframe tbody tr th:only-of-type {\n",
       "        vertical-align: middle;\n",
       "    }\n",
       "\n",
       "    .dataframe tbody tr th {\n",
       "        vertical-align: top;\n",
       "    }\n",
       "\n",
       "    .dataframe thead th {\n",
       "        text-align: right;\n",
       "    }\n",
       "</style>\n",
       "<table border=\"1\" class=\"dataframe\">\n",
       "  <thead>\n",
       "    <tr style=\"text-align: right;\">\n",
       "      <th></th>\n",
       "      <th>passenger count</th>\n",
       "      <th>trip distance</th>\n",
       "      <th>fare amount</th>\n",
       "      <th>extra</th>\n",
       "      <th>mta tax</th>\n",
       "      <th>tip amount</th>\n",
       "      <th>tolls amount</th>\n",
       "      <th>ehail fee</th>\n",
       "      <th>improvement surcharge</th>\n",
       "      <th>total amount</th>\n",
       "      <th>congestion surcharge</th>\n",
       "    </tr>\n",
       "  </thead>\n",
       "  <tbody>\n",
       "    <tr>\n",
       "      <th>count</th>\n",
       "      <td>664797.000000</td>\n",
       "      <td>675828.000000</td>\n",
       "      <td>675828.000000</td>\n",
       "      <td>327669.000000</td>\n",
       "      <td>675828.000000</td>\n",
       "      <td>675828.000000</td>\n",
       "      <td>675828.000000</td>\n",
       "      <td>0.0</td>\n",
       "      <td>675828.000000</td>\n",
       "      <td>675828.000000</td>\n",
       "      <td>0.0</td>\n",
       "    </tr>\n",
       "    <tr>\n",
       "      <th>mean</th>\n",
       "      <td>1.350206</td>\n",
       "      <td>3.476722</td>\n",
       "      <td>14.296778</td>\n",
       "      <td>0.771953</td>\n",
       "      <td>0.488658</td>\n",
       "      <td>0.978281</td>\n",
       "      <td>0.218561</td>\n",
       "      <td>NaN</td>\n",
       "      <td>0.284525</td>\n",
       "      <td>16.664675</td>\n",
       "      <td>NaN</td>\n",
       "    </tr>\n",
       "    <tr>\n",
       "      <th>std</th>\n",
       "      <td>1.061371</td>\n",
       "      <td>3.946790</td>\n",
       "      <td>12.994196</td>\n",
       "      <td>0.489053</td>\n",
       "      <td>0.082618</td>\n",
       "      <td>2.079905</td>\n",
       "      <td>1.494347</td>\n",
       "      <td>NaN</td>\n",
       "      <td>0.069732</td>\n",
       "      <td>14.161273</td>\n",
       "      <td>NaN</td>\n",
       "    </tr>\n",
       "    <tr>\n",
       "      <th>min</th>\n",
       "      <td>1.000000</td>\n",
       "      <td>0.000000</td>\n",
       "      <td>-255.550000</td>\n",
       "      <td>-4.500000</td>\n",
       "      <td>-0.500000</td>\n",
       "      <td>-1.950000</td>\n",
       "      <td>0.000000</td>\n",
       "      <td>NaN</td>\n",
       "      <td>-0.300000</td>\n",
       "      <td>-255.550000</td>\n",
       "      <td>NaN</td>\n",
       "    </tr>\n",
       "    <tr>\n",
       "      <th>25%</th>\n",
       "      <td>1.000000</td>\n",
       "      <td>1.100000</td>\n",
       "      <td>6.500000</td>\n",
       "      <td>0.500000</td>\n",
       "      <td>0.500000</td>\n",
       "      <td>0.000000</td>\n",
       "      <td>0.000000</td>\n",
       "      <td>NaN</td>\n",
       "      <td>0.300000</td>\n",
       "      <td>8.300000</td>\n",
       "      <td>NaN</td>\n",
       "    </tr>\n",
       "    <tr>\n",
       "      <th>50%</th>\n",
       "      <td>1.000000</td>\n",
       "      <td>2.050000</td>\n",
       "      <td>10.000000</td>\n",
       "      <td>0.500000</td>\n",
       "      <td>0.500000</td>\n",
       "      <td>0.000000</td>\n",
       "      <td>0.000000</td>\n",
       "      <td>NaN</td>\n",
       "      <td>0.300000</td>\n",
       "      <td>12.250000</td>\n",
       "      <td>NaN</td>\n",
       "    </tr>\n",
       "    <tr>\n",
       "      <th>75%</th>\n",
       "      <td>1.000000</td>\n",
       "      <td>4.220000</td>\n",
       "      <td>17.500000</td>\n",
       "      <td>1.000000</td>\n",
       "      <td>0.500000</td>\n",
       "      <td>1.580000</td>\n",
       "      <td>0.000000</td>\n",
       "      <td>NaN</td>\n",
       "      <td>0.300000</td>\n",
       "      <td>19.800000</td>\n",
       "      <td>NaN</td>\n",
       "    </tr>\n",
       "    <tr>\n",
       "      <th>max</th>\n",
       "      <td>111.000000</td>\n",
       "      <td>151.130000</td>\n",
       "      <td>2872.000000</td>\n",
       "      <td>8.250000</td>\n",
       "      <td>0.500000</td>\n",
       "      <td>446.410000</td>\n",
       "      <td>765.540000</td>\n",
       "      <td>NaN</td>\n",
       "      <td>0.300000</td>\n",
       "      <td>2872.800000</td>\n",
       "      <td>NaN</td>\n",
       "    </tr>\n",
       "  </tbody>\n",
       "</table>\n",
       "</div>"
      ],
      "text/plain": [
       "       passenger count  trip distance    fare amount          extra  \\\n",
       "count    664797.000000  675828.000000  675828.000000  327669.000000   \n",
       "mean          1.350206       3.476722      14.296778       0.771953   \n",
       "std           1.061371       3.946790      12.994196       0.489053   \n",
       "min           1.000000       0.000000    -255.550000      -4.500000   \n",
       "25%           1.000000       1.100000       6.500000       0.500000   \n",
       "50%           1.000000       2.050000      10.000000       0.500000   \n",
       "75%           1.000000       4.220000      17.500000       1.000000   \n",
       "max         111.000000     151.130000    2872.000000       8.250000   \n",
       "\n",
       "             mta tax     tip amount   tolls amount  ehail fee  \\\n",
       "count  675828.000000  675828.000000  675828.000000        0.0   \n",
       "mean        0.488658       0.978281       0.218561        NaN   \n",
       "std         0.082618       2.079905       1.494347        NaN   \n",
       "min        -0.500000      -1.950000       0.000000        NaN   \n",
       "25%         0.500000       0.000000       0.000000        NaN   \n",
       "50%         0.500000       0.000000       0.000000        NaN   \n",
       "75%         0.500000       1.580000       0.000000        NaN   \n",
       "max         0.500000     446.410000     765.540000        NaN   \n",
       "\n",
       "       improvement surcharge   total amount  congestion surcharge  \n",
       "count          675828.000000  675828.000000                   0.0  \n",
       "mean                0.284525      16.664675                   NaN  \n",
       "std                 0.069732      14.161273                   NaN  \n",
       "min                -0.300000    -255.550000                   NaN  \n",
       "25%                 0.300000       8.300000                   NaN  \n",
       "50%                 0.300000      12.250000                   NaN  \n",
       "75%                 0.300000      19.800000                   NaN  \n",
       "max                 0.300000    2872.800000                   NaN  "
      ]
     },
     "execution_count": 13,
     "metadata": {},
     "output_type": "execute_result"
    }
   ],
   "source": [
    "df.describe()"
   ]
  },
  {
   "cell_type": "markdown",
   "metadata": {},
   "source": [
    "ehail fee and congestion surcharge are filled with null values  \n",
    "about half of the extra values are null  \n",
    "fair amount and total amount are widely spread (high std)  \n",
    "mta tax ranges from -0.5 and 0.5"
   ]
  },
  {
   "cell_type": "code",
   "execution_count": 15,
   "metadata": {},
   "outputs": [
    {
     "data": {
      "text/html": [
       "<div>\n",
       "<style scoped>\n",
       "    .dataframe tbody tr th:only-of-type {\n",
       "        vertical-align: middle;\n",
       "    }\n",
       "\n",
       "    .dataframe tbody tr th {\n",
       "        vertical-align: top;\n",
       "    }\n",
       "\n",
       "    .dataframe thead th {\n",
       "        text-align: right;\n",
       "    }\n",
       "</style>\n",
       "<table border=\"1\" class=\"dataframe\">\n",
       "  <thead>\n",
       "    <tr style=\"text-align: right;\">\n",
       "      <th></th>\n",
       "      <th>passenger count</th>\n",
       "      <th>trip distance</th>\n",
       "      <th>fare amount</th>\n",
       "      <th>extra</th>\n",
       "      <th>mta tax</th>\n",
       "      <th>tip amount</th>\n",
       "      <th>tolls amount</th>\n",
       "      <th>ehail fee</th>\n",
       "      <th>improvement surcharge</th>\n",
       "      <th>total amount</th>\n",
       "      <th>congestion surcharge</th>\n",
       "    </tr>\n",
       "  </thead>\n",
       "  <tbody>\n",
       "    <tr>\n",
       "      <th>passenger count</th>\n",
       "      <td>1.000000</td>\n",
       "      <td>-0.000151</td>\n",
       "      <td>0.003028</td>\n",
       "      <td>-0.005936</td>\n",
       "      <td>0.001007</td>\n",
       "      <td>0.006099</td>\n",
       "      <td>0.002418</td>\n",
       "      <td>NaN</td>\n",
       "      <td>0.025960</td>\n",
       "      <td>0.004708</td>\n",
       "      <td>NaN</td>\n",
       "    </tr>\n",
       "    <tr>\n",
       "      <th>trip distance</th>\n",
       "      <td>-0.000151</td>\n",
       "      <td>1.000000</td>\n",
       "      <td>0.889361</td>\n",
       "      <td>0.242199</td>\n",
       "      <td>0.016668</td>\n",
       "      <td>0.203563</td>\n",
       "      <td>0.372466</td>\n",
       "      <td>NaN</td>\n",
       "      <td>-0.176300</td>\n",
       "      <td>0.887565</td>\n",
       "      <td>NaN</td>\n",
       "    </tr>\n",
       "    <tr>\n",
       "      <th>fare amount</th>\n",
       "      <td>0.003028</td>\n",
       "      <td>0.889361</td>\n",
       "      <td>1.000000</td>\n",
       "      <td>0.381407</td>\n",
       "      <td>0.006533</td>\n",
       "      <td>0.186397</td>\n",
       "      <td>0.320918</td>\n",
       "      <td>NaN</td>\n",
       "      <td>-0.206530</td>\n",
       "      <td>0.982994</td>\n",
       "      <td>NaN</td>\n",
       "    </tr>\n",
       "    <tr>\n",
       "      <th>extra</th>\n",
       "      <td>-0.005936</td>\n",
       "      <td>0.242199</td>\n",
       "      <td>0.381407</td>\n",
       "      <td>1.000000</td>\n",
       "      <td>0.140681</td>\n",
       "      <td>-0.072221</td>\n",
       "      <td>0.132759</td>\n",
       "      <td>NaN</td>\n",
       "      <td>-0.578687</td>\n",
       "      <td>0.381417</td>\n",
       "      <td>NaN</td>\n",
       "    </tr>\n",
       "    <tr>\n",
       "      <th>mta tax</th>\n",
       "      <td>0.001007</td>\n",
       "      <td>0.016668</td>\n",
       "      <td>0.006533</td>\n",
       "      <td>0.140681</td>\n",
       "      <td>1.000000</td>\n",
       "      <td>0.009045</td>\n",
       "      <td>-0.004705</td>\n",
       "      <td>NaN</td>\n",
       "      <td>0.673279</td>\n",
       "      <td>0.020405</td>\n",
       "      <td>NaN</td>\n",
       "    </tr>\n",
       "    <tr>\n",
       "      <th>tip amount</th>\n",
       "      <td>0.006099</td>\n",
       "      <td>0.203563</td>\n",
       "      <td>0.186397</td>\n",
       "      <td>-0.072221</td>\n",
       "      <td>0.009045</td>\n",
       "      <td>1.000000</td>\n",
       "      <td>0.093821</td>\n",
       "      <td>NaN</td>\n",
       "      <td>0.070384</td>\n",
       "      <td>0.329719</td>\n",
       "      <td>NaN</td>\n",
       "    </tr>\n",
       "    <tr>\n",
       "      <th>tolls amount</th>\n",
       "      <td>0.002418</td>\n",
       "      <td>0.372466</td>\n",
       "      <td>0.320918</td>\n",
       "      <td>0.132759</td>\n",
       "      <td>-0.004705</td>\n",
       "      <td>0.093821</td>\n",
       "      <td>1.000000</td>\n",
       "      <td>NaN</td>\n",
       "      <td>-0.061127</td>\n",
       "      <td>0.414538</td>\n",
       "      <td>NaN</td>\n",
       "    </tr>\n",
       "    <tr>\n",
       "      <th>ehail fee</th>\n",
       "      <td>NaN</td>\n",
       "      <td>NaN</td>\n",
       "      <td>NaN</td>\n",
       "      <td>NaN</td>\n",
       "      <td>NaN</td>\n",
       "      <td>NaN</td>\n",
       "      <td>NaN</td>\n",
       "      <td>NaN</td>\n",
       "      <td>NaN</td>\n",
       "      <td>NaN</td>\n",
       "      <td>NaN</td>\n",
       "    </tr>\n",
       "    <tr>\n",
       "      <th>improvement surcharge</th>\n",
       "      <td>0.025960</td>\n",
       "      <td>-0.176300</td>\n",
       "      <td>-0.206530</td>\n",
       "      <td>-0.578687</td>\n",
       "      <td>0.673279</td>\n",
       "      <td>0.070384</td>\n",
       "      <td>-0.061127</td>\n",
       "      <td>NaN</td>\n",
       "      <td>1.000000</td>\n",
       "      <td>-0.182905</td>\n",
       "      <td>NaN</td>\n",
       "    </tr>\n",
       "    <tr>\n",
       "      <th>total amount</th>\n",
       "      <td>0.004708</td>\n",
       "      <td>0.887565</td>\n",
       "      <td>0.982994</td>\n",
       "      <td>0.381417</td>\n",
       "      <td>0.020405</td>\n",
       "      <td>0.329719</td>\n",
       "      <td>0.414538</td>\n",
       "      <td>NaN</td>\n",
       "      <td>-0.182905</td>\n",
       "      <td>1.000000</td>\n",
       "      <td>NaN</td>\n",
       "    </tr>\n",
       "    <tr>\n",
       "      <th>congestion surcharge</th>\n",
       "      <td>NaN</td>\n",
       "      <td>NaN</td>\n",
       "      <td>NaN</td>\n",
       "      <td>NaN</td>\n",
       "      <td>NaN</td>\n",
       "      <td>NaN</td>\n",
       "      <td>NaN</td>\n",
       "      <td>NaN</td>\n",
       "      <td>NaN</td>\n",
       "      <td>NaN</td>\n",
       "      <td>NaN</td>\n",
       "    </tr>\n",
       "  </tbody>\n",
       "</table>\n",
       "</div>"
      ],
      "text/plain": [
       "                       passenger count  trip distance  fare amount     extra  \\\n",
       "passenger count               1.000000      -0.000151     0.003028 -0.005936   \n",
       "trip distance                -0.000151       1.000000     0.889361  0.242199   \n",
       "fare amount                   0.003028       0.889361     1.000000  0.381407   \n",
       "extra                        -0.005936       0.242199     0.381407  1.000000   \n",
       "mta tax                       0.001007       0.016668     0.006533  0.140681   \n",
       "tip amount                    0.006099       0.203563     0.186397 -0.072221   \n",
       "tolls amount                  0.002418       0.372466     0.320918  0.132759   \n",
       "ehail fee                          NaN            NaN          NaN       NaN   \n",
       "improvement surcharge         0.025960      -0.176300    -0.206530 -0.578687   \n",
       "total amount                  0.004708       0.887565     0.982994  0.381417   \n",
       "congestion surcharge               NaN            NaN          NaN       NaN   \n",
       "\n",
       "                        mta tax  tip amount  tolls amount  ehail fee  \\\n",
       "passenger count        0.001007    0.006099      0.002418        NaN   \n",
       "trip distance          0.016668    0.203563      0.372466        NaN   \n",
       "fare amount            0.006533    0.186397      0.320918        NaN   \n",
       "extra                  0.140681   -0.072221      0.132759        NaN   \n",
       "mta tax                1.000000    0.009045     -0.004705        NaN   \n",
       "tip amount             0.009045    1.000000      0.093821        NaN   \n",
       "tolls amount          -0.004705    0.093821      1.000000        NaN   \n",
       "ehail fee                   NaN         NaN           NaN        NaN   \n",
       "improvement surcharge  0.673279    0.070384     -0.061127        NaN   \n",
       "total amount           0.020405    0.329719      0.414538        NaN   \n",
       "congestion surcharge        NaN         NaN           NaN        NaN   \n",
       "\n",
       "                       improvement surcharge  total amount  \\\n",
       "passenger count                     0.025960      0.004708   \n",
       "trip distance                      -0.176300      0.887565   \n",
       "fare amount                        -0.206530      0.982994   \n",
       "extra                              -0.578687      0.381417   \n",
       "mta tax                             0.673279      0.020405   \n",
       "tip amount                          0.070384      0.329719   \n",
       "tolls amount                       -0.061127      0.414538   \n",
       "ehail fee                                NaN           NaN   \n",
       "improvement surcharge               1.000000     -0.182905   \n",
       "total amount                       -0.182905      1.000000   \n",
       "congestion surcharge                     NaN           NaN   \n",
       "\n",
       "                       congestion surcharge  \n",
       "passenger count                         NaN  \n",
       "trip distance                           NaN  \n",
       "fare amount                             NaN  \n",
       "extra                                   NaN  \n",
       "mta tax                                 NaN  \n",
       "tip amount                              NaN  \n",
       "tolls amount                            NaN  \n",
       "ehail fee                               NaN  \n",
       "improvement surcharge                   NaN  \n",
       "total amount                            NaN  \n",
       "congestion surcharge                    NaN  "
      ]
     },
     "execution_count": 15,
     "metadata": {},
     "output_type": "execute_result"
    }
   ],
   "source": [
    "df.corr(numeric_only=True)"
   ]
  },
  {
   "cell_type": "code",
   "execution_count": 16,
   "metadata": {},
   "outputs": [
    {
     "name": "stderr",
     "output_type": "stream",
     "text": [
      "/var/folders/kp/_dc9qdb91c374y1y6r0_yx580000gn/T/ipykernel_40780/1958357408.py:1: FutureWarning: The default value of numeric_only in DataFrame.corr is deprecated. In a future version, it will default to False. Select only valid columns or specify the value of numeric_only to silence this warning.\n",
      "  corr_matrix = df.corr()\n"
     ]
    },
    {
     "data": {
      "image/png": "[encoded data removed]",
      "text/plain": [
       "<Figure size 1000x800 with 2 Axes>"
      ]
     },
     "metadata": {},
     "output_type": "display_data"
    }
   ],
   "source": [
    "corr_matrix = df.corr()\n",
    "\n",
    "# Create a heatmap to visualize the correlation matrix\n",
    "plt.figure(figsize=(10, 8))\n",
    "sns.heatmap(corr_matrix, annot=True, cmap='coolwarm', fmt='.2f', linewidths=1, linecolor='black')\n",
    "plt.title('Correlation Matrix')\n",
    "plt.show()"
   ]
  },
  {
   "cell_type": "markdown",
   "metadata": {},
   "source": [
    "### Conclusion\n",
    "There is a strong correlation between fare amount , total amount , trip distance each one with the other two.\n",
    "\n",
    "There is an intermediate relation between improvement surcharge and both extra and mtatax."
   ]
  },
  {
   "cell_type": "markdown",
   "metadata": {},
   "source": [
    "### 1- Fare Amount\n"
   ]
  },
  {
   "cell_type": "code",
   "execution_count": 17,
   "metadata": {},
   "outputs": [
    {
     "data": {
      "image/png": "[encoded data removed]",
      "text/plain": [
       "<Figure size 640x480 with 1 Axes>"
      ]
     },
     "metadata": {},
     "output_type": "display_data"
    }
   ],
   "source": [
    "sns.kdeplot(df[\"fare amount\"])\n",
    "plt.title('Fare Amount')\n",
    "plt.show()"
   ]
  },
  {
   "cell_type": "code",
   "execution_count": 18,
   "metadata": {},
   "outputs": [
    {
     "data": {
      "text/plain": [
       "1805"
      ]
     },
     "execution_count": 18,
     "metadata": {},
     "output_type": "execute_result"
    }
   ],
   "source": [
    "(df[\"fare amount\"]<0).sum()"
   ]
  },
  {
   "cell_type": "code",
   "execution_count": 19,
   "metadata": {},
   "outputs": [
    {
     "data": {
      "text/plain": [
       "1156"
      ]
     },
     "execution_count": 19,
     "metadata": {},
     "output_type": "execute_result"
    }
   ],
   "source": [
    "(df[\"fare amount\"]==0).sum()"
   ]
  },
  {
   "cell_type": "code",
   "execution_count": 20,
   "metadata": {},
   "outputs": [
    {
     "data": {
      "image/png": "[encoded data removed]",
      "text/plain": [
       "<Figure size 640x480 with 1 Axes>"
      ]
     },
     "metadata": {},
     "output_type": "display_data"
    }
   ],
   "source": [
    "sns.boxplot(x='fare amount', data=df)\n",
    "plt.title('Boxplot of Fare Amount')\n",
    "plt.show()"
   ]
  },
  {
   "cell_type": "code",
   "execution_count": 21,
   "metadata": {},
   "outputs": [
    {
     "data": {
      "text/html": [
       "<div>\n",
       "<style scoped>\n",
       "    .dataframe tbody tr th:only-of-type {\n",
       "        vertical-align: middle;\n",
       "    }\n",
       "\n",
       "    .dataframe tbody tr th {\n",
       "        vertical-align: top;\n",
       "    }\n",
       "\n",
       "    .dataframe thead th {\n",
       "        text-align: right;\n",
       "    }\n",
       "</style>\n",
       "<table border=\"1\" class=\"dataframe\">\n",
       "  <thead>\n",
       "    <tr style=\"text-align: right;\">\n",
       "      <th></th>\n",
       "      <th>Vendor</th>\n",
       "      <th>lpep pickup datetime</th>\n",
       "      <th>lpep dropoff datetime</th>\n",
       "      <th>store and fwd flag</th>\n",
       "      <th>Rate type</th>\n",
       "      <th>PU Location</th>\n",
       "      <th>DO Location</th>\n",
       "      <th>passenger count</th>\n",
       "      <th>trip distance</th>\n",
       "      <th>fare amount</th>\n",
       "      <th>extra</th>\n",
       "      <th>mta tax</th>\n",
       "      <th>tip amount</th>\n",
       "      <th>tolls amount</th>\n",
       "      <th>ehail fee</th>\n",
       "      <th>improvement surcharge</th>\n",
       "      <th>total amount</th>\n",
       "      <th>payment type</th>\n",
       "      <th>trip type</th>\n",
       "      <th>congestion surcharge</th>\n",
       "    </tr>\n",
       "  </thead>\n",
       "  <tbody>\n",
       "    <tr>\n",
       "      <th>156464</th>\n",
       "      <td>VeriFone Inc.</td>\n",
       "      <td>2018-08-09 00:00:00</td>\n",
       "      <td>2018-08-09 00:00:00</td>\n",
       "      <td>N</td>\n",
       "      <td>Standard rate</td>\n",
       "      <td>Manhattan,Manhattanville</td>\n",
       "      <td>Bronx,Claremont/Bathgate</td>\n",
       "      <td>1.0</td>\n",
       "      <td>3.53</td>\n",
       "      <td>1171.0</td>\n",
       "      <td>0.5</td>\n",
       "      <td>0.5</td>\n",
       "      <td>0.0</td>\n",
       "      <td>0.0</td>\n",
       "      <td>NaN</td>\n",
       "      <td>0.3</td>\n",
       "      <td>1172.3</td>\n",
       "      <td>Cash</td>\n",
       "      <td>Street-hail</td>\n",
       "      <td>NaN</td>\n",
       "    </tr>\n",
       "    <tr>\n",
       "      <th>481925</th>\n",
       "      <td>VeriFone Inc.</td>\n",
       "      <td>2018-08-25 08:54:55</td>\n",
       "      <td>2018-08-25 08:54:55</td>\n",
       "      <td>N</td>\n",
       "      <td>Standard rate</td>\n",
       "      <td>Brooklyn,Brooklyn Heights</td>\n",
       "      <td>Queens,Whitestone</td>\n",
       "      <td>3.0</td>\n",
       "      <td>151.13</td>\n",
       "      <td>1428.5</td>\n",
       "      <td>NaN</td>\n",
       "      <td>0.5</td>\n",
       "      <td>0.0</td>\n",
       "      <td>0.0</td>\n",
       "      <td>NaN</td>\n",
       "      <td>0.3</td>\n",
       "      <td>1429.3</td>\n",
       "      <td>Cash</td>\n",
       "      <td>Street-hail</td>\n",
       "      <td>NaN</td>\n",
       "    </tr>\n",
       "    <tr>\n",
       "      <th>649423</th>\n",
       "      <td>VeriFone Inc.</td>\n",
       "      <td>2018-08-31 11:57:00</td>\n",
       "      <td>2018-09-01 11:36:24</td>\n",
       "      <td>N</td>\n",
       "      <td>Standard rate</td>\n",
       "      <td>Queens,Queensbridge/Ravenswood</td>\n",
       "      <td>Queens,Queensbridge/Ravenswood</td>\n",
       "      <td>5.0</td>\n",
       "      <td>0.00</td>\n",
       "      <td>2872.0</td>\n",
       "      <td>NaN</td>\n",
       "      <td>0.5</td>\n",
       "      <td>0.0</td>\n",
       "      <td>0.0</td>\n",
       "      <td>NaN</td>\n",
       "      <td>0.3</td>\n",
       "      <td>2872.8</td>\n",
       "      <td>Cash</td>\n",
       "      <td>Street-hail</td>\n",
       "      <td>NaN</td>\n",
       "    </tr>\n",
       "  </tbody>\n",
       "</table>\n",
       "</div>"
      ],
      "text/plain": [
       "               Vendor lpep pickup datetime lpep dropoff datetime  \\\n",
       "156464  VeriFone Inc.  2018-08-09 00:00:00   2018-08-09 00:00:00   \n",
       "481925  VeriFone Inc.  2018-08-25 08:54:55   2018-08-25 08:54:55   \n",
       "649423  VeriFone Inc.  2018-08-31 11:57:00   2018-09-01 11:36:24   \n",
       "\n",
       "       store and fwd flag      Rate type                     PU Location  \\\n",
       "156464                  N  Standard rate        Manhattan,Manhattanville   \n",
       "481925                  N  Standard rate       Brooklyn,Brooklyn Heights   \n",
       "649423                  N  Standard rate  Queens,Queensbridge/Ravenswood   \n",
       "\n",
       "                           DO Location  passenger count  trip distance  \\\n",
       "156464        Bronx,Claremont/Bathgate              1.0           3.53   \n",
       "481925               Queens,Whitestone              3.0         151.13   \n",
       "649423  Queens,Queensbridge/Ravenswood              5.0           0.00   \n",
       "\n",
       "        fare amount  extra  mta tax  tip amount  tolls amount  ehail fee  \\\n",
       "156464       1171.0    0.5      0.5         0.0           0.0        NaN   \n",
       "481925       1428.5    NaN      0.5         0.0           0.0        NaN   \n",
       "649423       2872.0    NaN      0.5         0.0           0.0        NaN   \n",
       "\n",
       "        improvement surcharge  total amount payment type    trip type  \\\n",
       "156464                    0.3        1172.3         Cash  Street-hail   \n",
       "481925                    0.3        1429.3         Cash  Street-hail   \n",
       "649423                    0.3        2872.8         Cash  Street-hail   \n",
       "\n",
       "        congestion surcharge  \n",
       "156464                   NaN  \n",
       "481925                   NaN  \n",
       "649423                   NaN  "
      ]
     },
     "execution_count": 21,
     "metadata": {},
     "output_type": "execute_result"
    }
   ],
   "source": [
    "df[df[\"fare amount\"]>700]"
   ]
  },
  {
   "cell_type": "markdown",
   "metadata": {},
   "source": [
    "### Conclusion\n",
    "1- there is a problem with meter calculating the fare as it is sometimes (many times) smaller than or less than 0 which is illogical.\n",
    "\n",
    "2- outliers on the large side also have some illogical data where trip time is 0 and distance is so large or the inverse (24 hours with 0 distance)."
   ]
  },
  {
   "cell_type": "markdown",
   "metadata": {},
   "source": [
    "### 2- Trip Distance"
   ]
  },
  {
   "cell_type": "code",
   "execution_count": 22,
   "metadata": {},
   "outputs": [
    {
     "data": {
      "text/plain": [
       "(0.0, 151.13, 2.874075115691434)"
      ]
     },
     "execution_count": 22,
     "metadata": {},
     "output_type": "execute_result"
    }
   ],
   "source": [
    "f = \"trip distance\"\n",
    "df[f].min(),df[f].max(),df[f].skew()"
   ]
  },
  {
   "cell_type": "code",
   "execution_count": 23,
   "metadata": {},
   "outputs": [
    {
     "data": {
      "image/png": "[encoded data removed]",
      "text/plain": [
       "<Figure size 640x480 with 1 Axes>"
      ]
     },
     "metadata": {},
     "output_type": "display_data"
    }
   ],
   "source": [
    "sns.kdeplot(df[\"trip distance\"])\n",
    "plt.title('Trip Distance')\n",
    "plt.show()"
   ]
  },
  {
   "cell_type": "code",
   "execution_count": 24,
   "metadata": {},
   "outputs": [
    {
     "data": {
      "text/plain": [
       "7951"
      ]
     },
     "execution_count": 24,
     "metadata": {},
     "output_type": "execute_result"
    }
   ],
   "source": [
    "(df[\"trip distance\"]==0).sum()"
   ]
  },
  {
   "cell_type": "code",
   "execution_count": 25,
   "metadata": {},
   "outputs": [
    {
     "data": {
      "text/plain": [
       "0"
      ]
     },
     "execution_count": 25,
     "metadata": {},
     "output_type": "execute_result"
    }
   ],
   "source": [
    "(df[\"trip distance\"]<0).sum()"
   ]
  },
  {
   "cell_type": "markdown",
   "metadata": {},
   "source": [
    "### Conclusion \n",
    "trip distance is right skewed.\n",
    "in 7951 cases either taximeter is not working as it doesn't calculate distance or the passenger and the driver dont agree once the passenger starts running the taximeter."
   ]
  },
  {
   "cell_type": "markdown",
   "metadata": {},
   "source": [
    "### 3- Passenger Count"
   ]
  },
  {
   "cell_type": "code",
   "execution_count": 26,
   "metadata": {},
   "outputs": [
    {
     "data": {
      "text/plain": [
       "1.0      564562\n",
       "2.0       52155\n",
       "5.0       21913\n",
       "6.0       12187\n",
       "3.0       10354\n",
       "4.0        3605\n",
       "7.0          10\n",
       "8.0           5\n",
       "111.0         4\n",
       "9.0           2\n",
       "Name: passenger count, dtype: int64"
      ]
     },
     "execution_count": 26,
     "metadata": {},
     "output_type": "execute_result"
    }
   ],
   "source": [
    "df[\"passenger count\"].value_counts()"
   ]
  },
  {
   "cell_type": "code",
   "execution_count": 27,
   "metadata": {},
   "outputs": [
    {
     "data": {
      "image/png": "[encoded data removed]",
      "text/plain": [
       "<Figure size 640x480 with 1 Axes>"
      ]
     },
     "metadata": {},
     "output_type": "display_data"
    }
   ],
   "source": [
    "sns.countplot(df,x = 'passenger count')\n",
    "plt.show()"
   ]
  },
  {
   "cell_type": "markdown",
   "metadata": {},
   "source": [
    "### Conclusion\n",
    "mostly 1 passenger count is only.from 2 to 6 are rarer, However 2 isnt too rare. 7 to 9 is so rare and is most probably an incorrect input as most drivers shouldn't accept this passenger count.111 is for sure an incorrect input."
   ]
  },
  {
   "cell_type": "markdown",
   "metadata": {},
   "source": [
    "### 4- Payment Type and Tip Amount"
   ]
  },
  {
   "cell_type": "code",
   "execution_count": 28,
   "metadata": {},
   "outputs": [
    {
     "data": {
      "text/plain": [
       "Credit card    363310\n",
       "Cash           278958\n",
       "Unknown         10180\n",
       "No charge        2747\n",
       "Dispute          1311\n",
       "Uknown             21\n",
       "Name: payment type, dtype: int64"
      ]
     },
     "execution_count": 28,
     "metadata": {},
     "output_type": "execute_result"
    }
   ],
   "source": [
    "df[\"payment type\"].value_counts()"
   ]
  },
  {
   "cell_type": "code",
   "execution_count": 29,
   "metadata": {},
   "outputs": [
    {
     "data": {
      "image/png": "[encoded data removed]",
      "text/plain": [
       "<Figure size 640x480 with 1 Axes>"
      ]
     },
     "metadata": {},
     "output_type": "display_data"
    }
   ],
   "source": [
    "sns.countplot(df,x = 'payment type')\n",
    "plt.show()"
   ]
  },
  {
   "cell_type": "code",
   "execution_count": 30,
   "metadata": {},
   "outputs": [
    {
     "data": {
      "text/plain": [
       "count    363310.000000\n",
       "mean          1.750328\n",
       "std           2.531221\n",
       "min           0.000000\n",
       "25%           0.000000\n",
       "50%           1.360000\n",
       "75%           2.550000\n",
       "max         446.410000\n",
       "Name: tip amount, dtype: float64"
      ]
     },
     "execution_count": 30,
     "metadata": {},
     "output_type": "execute_result"
    }
   ],
   "source": [
    "df[df[\"payment type\"] == \"Credit card\"][\"tip amount\"].describe()"
   ]
  },
  {
   "cell_type": "code",
   "execution_count": 31,
   "metadata": {},
   "outputs": [
    {
     "data": {
      "image/png": "[encoded data removed]",
      "text/plain": [
       "<Figure size 640x480 with 1 Axes>"
      ]
     },
     "metadata": {},
     "output_type": "display_data"
    }
   ],
   "source": [
    "sns.kdeplot(df[df[\"payment type\"] == \"Credit card\"][\"tip amount\"])\n",
    "plt.title('Tips for Credit card payments')\n",
    "plt.show()"
   ]
  },
  {
   "cell_type": "code",
   "execution_count": 32,
   "metadata": {},
   "outputs": [
    {
     "data": {
      "image/png": "[encoded data removed]",
      "text/plain": [
       "<Figure size 640x480 with 1 Axes>"
      ]
     },
     "metadata": {},
     "output_type": "display_data"
    }
   ],
   "source": [
    "sns.boxplot(x='tip amount', data=df[df[\"payment type\"] == \"Credit card\"])\n",
    "plt.title('Boxplot of tips')\n",
    "plt.show()"
   ]
  },
  {
   "cell_type": "code",
   "execution_count": 33,
   "metadata": {},
   "outputs": [
    {
     "data": {
      "image/png": "[encoded data removed]",
      "text/plain": [
       "<Figure size 640x480 with 1 Axes>"
      ]
     },
     "metadata": {},
     "output_type": "display_data"
    }
   ],
   "source": [
    "sns.boxplot(x='tip amount', data=df[df[\"payment type\"] == \"Credit card\"] ,)\n",
    "plt.title('Boxplot of tips')\n",
    "plt.xlim(0,10)\n",
    "plt.show()"
   ]
  },
  {
   "cell_type": "code",
   "execution_count": 34,
   "metadata": {},
   "outputs": [
    {
     "data": {
      "text/plain": [
       "0    0.0\n",
       "Name: tip amount, dtype: float64"
      ]
     },
     "execution_count": 34,
     "metadata": {},
     "output_type": "execute_result"
    }
   ],
   "source": [
    "df[df[\"payment type\"] == \"Credit card\"][\"tip amount\"].mode()"
   ]
  },
  {
   "cell_type": "code",
   "execution_count": 35,
   "metadata": {},
   "outputs": [
    {
     "data": {
      "text/plain": [
       "446.41"
      ]
     },
     "execution_count": 35,
     "metadata": {},
     "output_type": "execute_result"
    }
   ],
   "source": [
    "df[df[\"payment type\"] == \"Credit card\"][\"tip amount\"].max()"
   ]
  },
  {
   "cell_type": "code",
   "execution_count": 36,
   "metadata": {},
   "outputs": [
    {
     "data": {
      "text/plain": [
       "3.39"
      ]
     },
     "execution_count": 36,
     "metadata": {},
     "output_type": "execute_result"
    }
   ],
   "source": [
    "df[df[\"payment type\"] == \"Credit card\"][\"tip amount\"].quantile(0.85)"
   ]
  },
  {
   "cell_type": "code",
   "execution_count": 37,
   "metadata": {},
   "outputs": [
    {
     "data": {
      "text/plain": [
       "43"
      ]
     },
     "execution_count": 37,
     "metadata": {},
     "output_type": "execute_result"
    }
   ],
   "source": [
    "df[df[\"tip amount\"] >= 50].shape[0]"
   ]
  },
  {
   "cell_type": "code",
   "execution_count": 38,
   "metadata": {},
   "outputs": [
    {
     "data": {
      "text/html": [
       "<div>\n",
       "<style scoped>\n",
       "    .dataframe tbody tr th:only-of-type {\n",
       "        vertical-align: middle;\n",
       "    }\n",
       "\n",
       "    .dataframe tbody tr th {\n",
       "        vertical-align: top;\n",
       "    }\n",
       "\n",
       "    .dataframe thead th {\n",
       "        text-align: right;\n",
       "    }\n",
       "</style>\n",
       "<table border=\"1\" class=\"dataframe\">\n",
       "  <thead>\n",
       "    <tr style=\"text-align: right;\">\n",
       "      <th></th>\n",
       "      <th>Vendor</th>\n",
       "      <th>lpep pickup datetime</th>\n",
       "      <th>lpep dropoff datetime</th>\n",
       "      <th>store and fwd flag</th>\n",
       "      <th>Rate type</th>\n",
       "      <th>PU Location</th>\n",
       "      <th>DO Location</th>\n",
       "      <th>passenger count</th>\n",
       "      <th>trip distance</th>\n",
       "      <th>fare amount</th>\n",
       "      <th>extra</th>\n",
       "      <th>mta tax</th>\n",
       "      <th>tip amount</th>\n",
       "      <th>tolls amount</th>\n",
       "      <th>ehail fee</th>\n",
       "      <th>improvement surcharge</th>\n",
       "      <th>total amount</th>\n",
       "      <th>payment type</th>\n",
       "      <th>trip type</th>\n",
       "      <th>congestion surcharge</th>\n",
       "    </tr>\n",
       "  </thead>\n",
       "  <tbody>\n",
       "    <tr>\n",
       "      <th>469646</th>\n",
       "      <td>VeriFone Inc.</td>\n",
       "      <td>2018-08-22 21:17:00</td>\n",
       "      <td>2018-08-22 21:17:49</td>\n",
       "      <td>N</td>\n",
       "      <td>Negotiated fare</td>\n",
       "      <td>Queens,Jackson Heights</td>\n",
       "      <td>Queens,Jackson Heights</td>\n",
       "      <td>1.0</td>\n",
       "      <td>0.0</td>\n",
       "      <td>25.0</td>\n",
       "      <td>NaN</td>\n",
       "      <td>0.0</td>\n",
       "      <td>446.41</td>\n",
       "      <td>0.0</td>\n",
       "      <td>NaN</td>\n",
       "      <td>0.0</td>\n",
       "      <td>471.41</td>\n",
       "      <td>Credit card</td>\n",
       "      <td>Dispatch</td>\n",
       "      <td>NaN</td>\n",
       "    </tr>\n",
       "  </tbody>\n",
       "</table>\n",
       "</div>"
      ],
      "text/plain": [
       "               Vendor lpep pickup datetime lpep dropoff datetime  \\\n",
       "469646  VeriFone Inc.  2018-08-22 21:17:00   2018-08-22 21:17:49   \n",
       "\n",
       "       store and fwd flag        Rate type             PU Location  \\\n",
       "469646                  N  Negotiated fare  Queens,Jackson Heights   \n",
       "\n",
       "                   DO Location  passenger count  trip distance  fare amount  \\\n",
       "469646  Queens,Jackson Heights              1.0            0.0         25.0   \n",
       "\n",
       "        extra  mta tax  tip amount  tolls amount  ehail fee  \\\n",
       "469646    NaN      0.0      446.41           0.0        NaN   \n",
       "\n",
       "        improvement surcharge  total amount payment type trip type  \\\n",
       "469646                    0.0        471.41  Credit card  Dispatch   \n",
       "\n",
       "        congestion surcharge  \n",
       "469646                   NaN  "
      ]
     },
     "execution_count": 38,
     "metadata": {},
     "output_type": "execute_result"
    }
   ],
   "source": [
    "df[df[\"tip amount\"] == 446.41]"
   ]
  },
  {
   "cell_type": "markdown",
   "metadata": {},
   "source": [
    "### Conclusion \n",
    "1- most tips are small  (85% of tips are less than 3.4) can be deduced from boxplot too\n",
    "2- most passengers dont give tips  (mode = 0)\n",
    "3- the max tip is most probably incorrect data as distance is 0 and time is less than a minute which means there was no actual trip."
   ]
  },
  {
   "cell_type": "markdown",
   "metadata": {},
   "source": [
    "### 5- finding some relationships between feeatures and fair amount"
   ]
  },
  {
   "cell_type": "code",
   "execution_count": 39,
   "metadata": {},
   "outputs": [
    {
     "data": {
      "text/plain": [
       "Vendor                        2\n",
       "lpep pickup datetime     576465\n",
       "lpep dropoff datetime    576720\n",
       "store and fwd flag            2\n",
       "Rate type                     7\n",
       "PU Location                 238\n",
       "DO Location                 259\n",
       "passenger count              10\n",
       "trip distance              3243\n",
       "fare amount                4000\n",
       "extra                        11\n",
       "mta tax                       3\n",
       "tip amount                 1631\n",
       "tolls amount                 95\n",
       "ehail fee                     0\n",
       "improvement surcharge         3\n",
       "total amount               6505\n",
       "payment type                  6\n",
       "trip type                     3\n",
       "congestion surcharge          0\n",
       "dtype: int64"
      ]
     },
     "execution_count": 39,
     "metadata": {},
     "output_type": "execute_result"
    }
   ],
   "source": [
    "df.nunique()"
   ]
  },
  {
   "cell_type": "code",
   "execution_count": 40,
   "metadata": {},
   "outputs": [],
   "source": [
    "grouped_data = df.groupby(\"trip type\")[\"total amount\"].mean().reset_index()"
   ]
  },
  {
   "cell_type": "code",
   "execution_count": 41,
   "metadata": {},
   "outputs": [
    {
     "data": {
      "image/png": "[encoded data removed]",
      "text/plain": [
       "<Figure size 640x480 with 1 Axes>"
      ]
     },
     "metadata": {},
     "output_type": "display_data"
    }
   ],
   "source": [
    "sns.barplot(x='trip type', y='total amount', data=grouped_data)\n",
    "plt.xlabel('trip Type')\n",
    "plt.ylabel('Mean Trip Amount')\n",
    "plt.title('Mean Trip Amount by trip Type')\n",
    "plt.show()"
   ]
  },
  {
   "cell_type": "code",
   "execution_count": 42,
   "metadata": {},
   "outputs": [
    {
     "data": {
      "text/plain": [
       "store and fwd flag\n",
       "N    16.200343\n",
       "Y    14.223769\n",
       "Name: total amount, dtype: float64"
      ]
     },
     "execution_count": 42,
     "metadata": {},
     "output_type": "execute_result"
    }
   ],
   "source": [
    "df.groupby(\"store and fwd flag\")[\"total amount\"].mean()"
   ]
  },
  {
   "cell_type": "code",
   "execution_count": 43,
   "metadata": {},
   "outputs": [
    {
     "data": {
      "text/plain": [
       "Vendor\n",
       "Creative Mobile Technologies, LLC    14.93316\n",
       "VeriFone Inc.                        16.97276\n",
       "Name: total amount, dtype: float64"
      ]
     },
     "execution_count": 43,
     "metadata": {},
     "output_type": "execute_result"
    }
   ],
   "source": [
    "df.groupby(\"Vendor\")[\"total amount\"].mean()"
   ]
  },
  {
   "cell_type": "code",
   "execution_count": 44,
   "metadata": {},
   "outputs": [],
   "source": [
    "grouped_data = df.groupby(\"payment type\")[\"total amount\"].mean().reset_index()"
   ]
  },
  {
   "cell_type": "code",
   "execution_count": 45,
   "metadata": {},
   "outputs": [
    {
     "data": {
      "image/png": "[encoded data removed]",
      "text/plain": [
       "<Figure size 640x480 with 1 Axes>"
      ]
     },
     "metadata": {},
     "output_type": "display_data"
    }
   ],
   "source": [
    "sns.barplot(x='payment type', y='total amount', data=grouped_data)\n",
    "plt.xlabel('Payment Type')\n",
    "plt.ylabel('Mean Trip Amount')\n",
    "plt.title('Mean Trip Amount by Payment Type')\n",
    "plt.show()"
   ]
  },
  {
   "cell_type": "markdown",
   "metadata": {},
   "source": [
    "### Conclusion\n",
    "1- Credit Card trips on average are of higher value  \n",
    "2- Dispatch trips are of higher value than street hail"
   ]
  },
  {
   "cell_type": "markdown",
   "metadata": {},
   "source": [
    "# 3 - Cleaning Data"
   ]
  },
  {
   "cell_type": "markdown",
   "metadata": {},
   "source": [
    "## Tidying up column names"
   ]
  },
  {
   "cell_type": "code",
   "execution_count": 46,
   "metadata": {},
   "outputs": [
    {
     "data": {
      "text/plain": [
       "Index(['Vendor', 'lpep pickup datetime', 'lpep dropoff datetime',\n",
       "       'store and fwd flag', 'Rate type', 'PU Location', 'DO Location',\n",
       "       'passenger count', 'trip distance', 'fare amount', 'extra', 'mta tax',\n",
       "       'tip amount', 'tolls amount', 'ehail fee', 'improvement surcharge',\n",
       "       'total amount', 'payment type', 'trip type', 'congestion surcharge'],\n",
       "      dtype='object')"
      ]
     },
     "execution_count": 46,
     "metadata": {},
     "output_type": "execute_result"
    }
   ],
   "source": [
    "df.columns"
   ]
  },
  {
   "cell_type": "code",
   "execution_count": 52,
   "metadata": {},
   "outputs": [],
   "source": [
    "df.columns = df.columns.str.lower()\n",
    "df.columns = df.columns.str.replace(' ', '_')\n",
    "\n"
   ]
  },
  {
   "cell_type": "code",
   "execution_count": 53,
   "metadata": {},
   "outputs": [
    {
     "data": {
      "text/plain": [
       "Index(['vendor', 'lpep_pickup_datetime', 'lpep_dropoff_datetime',\n",
       "       'store_and_fwd_flag', 'rate_type', 'pu_location', 'do_location',\n",
       "       'passenger_count', 'trip_distance', 'fare_amount', 'extra', 'mta_tax',\n",
       "       'tip_amount', 'tolls_amount', 'ehail_fee', 'improvement_surcharge',\n",
       "       'total_amount', 'payment_type', 'trip_type', 'congestion_surcharge'],\n",
       "      dtype='object')"
      ]
     },
     "execution_count": 53,
     "metadata": {},
     "output_type": "execute_result"
    }
   ],
   "source": [
    "df.columns"
   ]
  },
  {
   "cell_type": "code",
   "execution_count": 56,
   "metadata": {},
   "outputs": [],
   "source": [
    "df.rename(columns={'lpep_pickup_datetime': 'pickup_datetime', 'lpep_dropoff_datetime': 'dropoff_datetime','store_and_fwd_flag': 'store_and_fwd'}, inplace=True)\n"
   ]
  },
  {
   "cell_type": "code",
   "execution_count": 57,
   "metadata": {},
   "outputs": [
    {
     "data": {
      "text/plain": [
       "Index(['vendor', 'pickup_datetime', 'dropoff_datetime', 'store_and_fwd',\n",
       "       'rate_type', 'pu_location', 'do_location', 'passenger_count',\n",
       "       'trip_distance', 'fare_amount', 'extra', 'mta_tax', 'tip_amount',\n",
       "       'tolls_amount', 'ehail_fee', 'improvement_surcharge', 'total_amount',\n",
       "       'payment_type', 'trip_type', 'congestion_surcharge'],\n",
       "      dtype='object')"
      ]
     },
     "execution_count": 57,
     "metadata": {},
     "output_type": "execute_result"
    }
   ],
   "source": [
    "df.columns"
   ]
  },
  {
   "cell_type": "markdown",
   "metadata": {},
   "source": [
    "## Observe inconsistent data"
   ]
  },
  {
   "cell_type": "markdown",
   "metadata": {},
   "source": [
    "### Duplicates"
   ]
  },
  {
   "cell_type": "code",
   "execution_count": 59,
   "metadata": {},
   "outputs": [
    {
     "data": {
      "text/plain": [
       "7"
      ]
     },
     "execution_count": 59,
     "metadata": {},
     "output_type": "execute_result"
    }
   ],
   "source": [
    "df.duplicated().sum()"
   ]
  },
  {
   "cell_type": "code",
   "execution_count": 61,
   "metadata": {},
   "outputs": [
    {
     "data": {
      "text/plain": [
       "(675828, 20)"
      ]
     },
     "execution_count": 61,
     "metadata": {},
     "output_type": "execute_result"
    }
   ],
   "source": [
    "df.shape"
   ]
  },
  {
   "cell_type": "code",
   "execution_count": 63,
   "metadata": {},
   "outputs": [
    {
     "data": {
      "text/plain": [
       "(675821, 20)"
      ]
     },
     "execution_count": 63,
     "metadata": {},
     "output_type": "execute_result"
    }
   ],
   "source": [
    "df.drop_duplicates(inplace=True)\n",
    "df.shape"
   ]
  },
  {
   "cell_type": "code",
   "execution_count": 82,
   "metadata": {},
   "outputs": [
    {
     "data": {
      "text/plain": [
       "N    664158\n",
       "Y      1483\n",
       "Name: store_and_fwd, dtype: int64"
      ]
     },
     "execution_count": 82,
     "metadata": {},
     "output_type": "execute_result"
    }
   ],
   "source": [
    "df[\"store_and_fwd\"].value_counts()"
   ]
  },
  {
   "cell_type": "code",
   "execution_count": 71,
   "metadata": {},
   "outputs": [
    {
     "data": {
      "text/plain": [
       "store_and_fwd             1.506316\n",
       "passenger_count           1.632237\n",
       "extra                    51.515860\n",
       "ehail_fee               100.000000\n",
       "payment_type              2.855934\n",
       "congestion_surcharge    100.000000\n",
       "dtype: float64"
      ]
     },
     "execution_count": 71,
     "metadata": {},
     "output_type": "execute_result"
    }
   ],
   "source": [
    "sum_null = df.isnull().sum()\n",
    "perc_null = df.isnull().sum() / len(df)*100\n",
    "perc_null[perc_null>0]"
   ]
  },
  {
   "cell_type": "code",
   "execution_count": 72,
   "metadata": {},
   "outputs": [
    {
     "data": {
      "text/plain": [
       " 0.50    186874\n",
       " 1.00    129712\n",
       " 2.75      9243\n",
       " 5.50       676\n",
       "-0.50       594\n",
       "-1.00       296\n",
       " 4.50       245\n",
       " 8.25        20\n",
       "-4.50         4\n",
       " 0.20         1\n",
       " 0.02         1\n",
       "Name: extra, dtype: int64"
      ]
     },
     "execution_count": 72,
     "metadata": {},
     "output_type": "execute_result"
    }
   ],
   "source": [
    "df.extra.value_counts()"
   ]
  },
  {
   "cell_type": "markdown",
   "metadata": {},
   "source": [
    "1- since ehaul fee and congestion surcharge are completely missing they most probably they are MNAR as they do not actually exist. However they shouldn't be dropped because in future there might be congestion and ehaul fees instead filled with zeroes to imply that these trips wherent charged due to congestion or e-haul so we can assume they where charged 0.\n",
    "\n",
    "2- regarding extra, it is most probably MNAR too as it is not required (not obligatory) for each trip so it's meaning full to be half empty and should be filled with zeroes as there is no extra addition/subtraction.\n",
    "\n",
    "3- the remaining 3 features are missing with small percentage (but not very very small) meaning they are most probably missing at random.Also they must have values as there is no trip with no passenger count ,payment type  and store and forward. However if the trip hasn't completed (in a case where the driver and passenger didn't agree after the driver has started the meters) these values will be meaningless as there is no actual trip hence no passenger count , store and fwd flag , or payment.\n",
    "\n"
   ]
  },
  {
   "cell_type": "code",
   "execution_count": 73,
   "metadata": {},
   "outputs": [],
   "source": [
    "df_copy = df.copy()"
   ]
  },
  {
   "cell_type": "code",
   "execution_count": 74,
   "metadata": {},
   "outputs": [],
   "source": [
    "df_copy['ehail_fee'].fillna(0, inplace=True)\n",
    "df_copy['extra'].fillna(0, inplace=True)\n",
    "df_copy['congestion_surcharge'].fillna(0, inplace=True)\n"
   ]
  },
  {
   "cell_type": "code",
   "execution_count": 77,
   "metadata": {},
   "outputs": [
    {
     "data": {
      "text/plain": [
       "store_and_fwd      1.506316\n",
       "passenger_count    1.632237\n",
       "payment_type       2.855934\n",
       "dtype: float64"
      ]
     },
     "execution_count": 77,
     "metadata": {},
     "output_type": "execute_result"
    }
   ],
   "source": [
    "sum_null = df_copy.isnull().sum()\n",
    "perc_null = df_copy.isnull().sum() / len(df_copy)*100\n",
    "perc_null[perc_null>0]"
   ]
  },
  {
   "cell_type": "code",
   "execution_count": 89,
   "metadata": {},
   "outputs": [
    {
     "data": {
      "text/plain": [
       "(1.3502038237638954, 1.0, 9.651802893164298)"
      ]
     },
     "execution_count": 89,
     "metadata": {},
     "output_type": "execute_result"
    }
   ],
   "source": [
    "df[\"passenger_count\"].mean(),df[\"passenger_count\"].median(),df[\"passenger_count\"].skew()"
   ]
  },
  {
   "cell_type": "markdown",
   "metadata": {},
   "source": [
    "since passenger count is highly skewed, and there is no variable correlated with passenger count we may impute null passenger count values with the median."
   ]
  },
  {
   "cell_type": "code",
   "execution_count": 90,
   "metadata": {},
   "outputs": [],
   "source": [
    "median_value = df['passenger_count'].median()\n",
    "df_copy['passenger_count'].fillna(median_value, inplace=True)"
   ]
  },
  {
   "cell_type": "code",
   "execution_count": 91,
   "metadata": {},
   "outputs": [
    {
     "data": {
      "text/plain": [
       "store_and_fwd    1.506316\n",
       "payment_type     2.855934\n",
       "dtype: float64"
      ]
     },
     "execution_count": 91,
     "metadata": {},
     "output_type": "execute_result"
    }
   ],
   "source": [
    "sum_null = df_copy.isnull().sum()\n",
    "perc_null = df_copy.isnull().sum() / len(df_copy)*100\n",
    "perc_null[perc_null>0]"
   ]
  },
  {
   "cell_type": "code",
   "execution_count": 93,
   "metadata": {},
   "outputs": [
    {
     "data": {
      "text/plain": [
       "N    664158\n",
       "Y      1483\n",
       "Name: store_and_fwd, dtype: int64"
      ]
     },
     "execution_count": 93,
     "metadata": {},
     "output_type": "execute_result"
    }
   ],
   "source": [
    "df[\"store_and_fwd\"].value_counts()"
   ]
  },
  {
   "cell_type": "code",
   "execution_count": 94,
   "metadata": {},
   "outputs": [
    {
     "name": "stdout",
     "output_type": "stream",
     "text": [
      "Chi-Square Statistic: 10.24572920527864\n",
      "P-Value: 0.0013700141635406813\n"
     ]
    }
   ],
   "source": [
    "from scipy.stats import chi2_contingency\n",
    "\n",
    "contingency_table = pd.crosstab(df['store_and_fwd'], df['trip_type'])\n",
    "\n",
    "chi2, p, _, _ = chi2_contingency(contingency_table)\n",
    "print(\"Chi-Square Statistic:\", chi2)\n",
    "print(\"P-Value:\", p)"
   ]
  },
  {
   "cell_type": "code",
   "execution_count": 95,
   "metadata": {},
   "outputs": [
    {
     "data": {
      "image/png": "[encoded data removed]",
      "text/plain": [
       "<Figure size 640x480 with 2 Axes>"
      ]
     },
     "metadata": {},
     "output_type": "display_data"
    }
   ],
   "source": [
    "contingency_table = pd.crosstab(df['store_and_fwd'], df['trip_type'])\n",
    "sns.heatmap(contingency_table, annot=True, cmap='coolwarm', fmt='g')\n",
    "plt.show()"
   ]
  },
  {
   "cell_type": "markdown",
   "metadata": {},
   "source": [
    "Chi-Square test implies strong relationship between store and forward and trip type so we can fill null store and forward depending on trip type"
   ]
  },
  {
   "cell_type": "code",
   "execution_count": 99,
   "metadata": {},
   "outputs": [],
   "source": [
    "df_copy['store_and_fwd'] = df['store_and_fwd'].fillna('N').where(df['trip_type'] == 'Dispatch', 'Y')\n"
   ]
  },
  {
   "cell_type": "code",
   "execution_count": 100,
   "metadata": {},
   "outputs": [
    {
     "data": {
      "text/plain": [
       "payment_type    2.855934\n",
       "dtype: float64"
      ]
     },
     "execution_count": 100,
     "metadata": {},
     "output_type": "execute_result"
    }
   ],
   "source": [
    "sum_null = df_copy.isnull().sum()\n",
    "perc_null = df_copy.isnull().sum() / len(df_copy)*100\n",
    "perc_null[perc_null>0]"
   ]
  },
  {
   "cell_type": "code",
   "execution_count": 104,
   "metadata": {},
   "outputs": [
    {
     "data": {
      "text/plain": [
       "Index(['vendor', 'pickup_datetime', 'dropoff_datetime', 'store_and_fwd',\n",
       "       'rate_type', 'pu_location', 'do_location', 'passenger_count',\n",
       "       'trip_distance', 'fare_amount', 'extra', 'mta_tax', 'tip_amount',\n",
       "       'tolls_amount', 'ehail_fee', 'improvement_surcharge', 'total_amount',\n",
       "       'payment_type', 'trip_type', 'congestion_surcharge'],\n",
       "      dtype='object')"
      ]
     },
     "execution_count": 104,
     "metadata": {},
     "output_type": "execute_result"
    }
   ],
   "source": [
    "df.columns"
   ]
  },
  {
   "cell_type": "code",
   "execution_count": 112,
   "metadata": {},
   "outputs": [
    {
     "data": {
      "image/png": "[encoded data removed]",
      "text/plain": [
       "<Figure size 640x480 with 2 Axes>"
      ]
     },
     "metadata": {},
     "output_type": "display_data"
    }
   ],
   "source": [
    "contingency_table = pd.crosstab(df['passenger_count'], df['payment_type'])\n",
    "sns.heatmap(contingency_table, annot=True, cmap='coolwarm', fmt='g')\n",
    "plt.show()"
   ]
  },
  {
   "cell_type": "code",
   "execution_count": 123,
   "metadata": {},
   "outputs": [
    {
     "data": {
      "text/plain": [
       "8528"
      ]
     },
     "execution_count": 123,
     "metadata": {},
     "output_type": "execute_result"
    }
   ],
   "source": [
    "(df[\"payment_type\"].isnull() & df[\"tip_amount\"] != 0).sum()"
   ]
  },
  {
   "cell_type": "code",
   "execution_count": 122,
   "metadata": {},
   "outputs": [
    {
     "data": {
      "text/plain": [
       "19301"
      ]
     },
     "execution_count": 122,
     "metadata": {},
     "output_type": "execute_result"
    }
   ],
   "source": [
    "(df[\"payment_type\"].isnull()).sum()"
   ]
  },
  {
   "cell_type": "markdown",
   "metadata": {},
   "source": [
    "Since we know tip amount is written only in credit card payments we can make sure that filling any entry with tips to credit payment is correct. This leaves us with about 10k rows remaining null"
   ]
  },
  {
   "cell_type": "code",
   "execution_count": 125,
   "metadata": {},
   "outputs": [],
   "source": [
    "df_copy['payment_type'] = df.apply(lambda row: 'Credit card' if pd.isnull(row['payment_type']) and row['tip_amount'] != 0 else row['payment_type'], axis=1)\n"
   ]
  },
  {
   "cell_type": "code",
   "execution_count": 127,
   "metadata": {},
   "outputs": [
    {
     "data": {
      "text/plain": [
       "10773"
      ]
     },
     "execution_count": 127,
     "metadata": {},
     "output_type": "execute_result"
    }
   ],
   "source": [
    "(df_copy[\"payment_type\"].isnull()).sum()"
   ]
  },
  {
   "cell_type": "markdown",
   "metadata": {},
   "source": [
    "for the remaining we can mark them as unknown along with correcting \"Uknown\" value to unknown too.\n",
    "This approach is a bit logical as 11k entries are already unknown which implies there is a large change that the one who entered the data didnt know many payment types, and since we do not have any presumption helping us we can add these to the unknowns."
   ]
  },
  {
   "cell_type": "code",
   "execution_count": 137,
   "metadata": {},
   "outputs": [
    {
     "data": {
      "text/plain": [
       "Credit card    371834\n",
       "Cash           278955\n",
       "Unknown         10180\n",
       "No charge        2747\n",
       "Dispute          1311\n",
       "Uknown             21\n",
       "Name: payment_type, dtype: int64"
      ]
     },
     "execution_count": 137,
     "metadata": {},
     "output_type": "execute_result"
    }
   ],
   "source": [
    "df_copy[\"payment_type\"].value_counts()"
   ]
  },
  {
   "cell_type": "code",
   "execution_count": 138,
   "metadata": {},
   "outputs": [],
   "source": [
    "df_copy['payment_type'].fillna('Unknown', inplace=True)\n",
    "df_copy['payment_type'] = df_copy['payment_type'].replace('Uknown', 'Unknown')\n"
   ]
  },
  {
   "cell_type": "code",
   "execution_count": 139,
   "metadata": {},
   "outputs": [
    {
     "data": {
      "text/plain": [
       "0"
      ]
     },
     "execution_count": 139,
     "metadata": {},
     "output_type": "execute_result"
    }
   ],
   "source": [
    "(df_copy[\"payment_type\"].isnull()).sum()"
   ]
  },
  {
   "cell_type": "code",
   "execution_count": 140,
   "metadata": {},
   "outputs": [
    {
     "data": {
      "text/plain": [
       "Series([], dtype: float64)"
      ]
     },
     "execution_count": 140,
     "metadata": {},
     "output_type": "execute_result"
    }
   ],
   "source": [
    "sum_null = df_copy.isnull().sum()\n",
    "perc_null = df_copy.isnull().sum() / len(df_copy)*100\n",
    "perc_null[perc_null>0]"
   ]
  },
  {
   "cell_type": "markdown",
   "metadata": {},
   "source": [
    "This ends handling null values."
   ]
  },
  {
   "cell_type": "markdown",
   "metadata": {},
   "source": [
    "## Findings and conclusions"
   ]
  },
  {
   "cell_type": "code",
   "execution_count": null,
   "metadata": {},
   "outputs": [],
   "source": []
  },
  {
   "cell_type": "code",
   "execution_count": null,
   "metadata": {},
   "outputs": [],
   "source": []
  },
  {
   "cell_type": "markdown",
   "metadata": {},
   "source": [
    "## Observing Missing Data"
   ]
  },
  {
   "cell_type": "code",
   "execution_count": null,
   "metadata": {},
   "outputs": [],
   "source": []
  },
  {
   "cell_type": "code",
   "execution_count": null,
   "metadata": {},
   "outputs": [],
   "source": []
  },
  {
   "cell_type": "code",
   "execution_count": null,
   "metadata": {},
   "outputs": [],
   "source": []
  },
  {
   "cell_type": "markdown",
   "metadata": {},
   "source": [
    "## Handling Missing data"
   ]
  },
  {
   "cell_type": "code",
   "execution_count": null,
   "metadata": {},
   "outputs": [],
   "source": []
  },
  {
   "cell_type": "code",
   "execution_count": null,
   "metadata": {},
   "outputs": [],
   "source": []
  },
  {
   "cell_type": "code",
   "execution_count": null,
   "metadata": {},
   "outputs": [],
   "source": []
  },
  {
   "cell_type": "markdown",
   "metadata": {},
   "source": [
    "## Findings and conclusions"
   ]
  },
  {
   "cell_type": "code",
   "execution_count": null,
   "metadata": {},
   "outputs": [],
   "source": []
  },
  {
   "cell_type": "code",
   "execution_count": null,
   "metadata": {},
   "outputs": [],
   "source": []
  },
  {
   "cell_type": "markdown",
   "metadata": {},
   "source": [
    "## Observing outliers"
   ]
  },
  {
   "cell_type": "code",
   "execution_count": null,
   "metadata": {},
   "outputs": [],
   "source": []
  },
  {
   "cell_type": "code",
   "execution_count": null,
   "metadata": {},
   "outputs": [],
   "source": []
  },
  {
   "cell_type": "code",
   "execution_count": null,
   "metadata": {},
   "outputs": [],
   "source": []
  },
  {
   "cell_type": "markdown",
   "metadata": {},
   "source": [
    "## Handling outliers"
   ]
  },
  {
   "cell_type": "code",
   "execution_count": null,
   "metadata": {},
   "outputs": [],
   "source": []
  },
  {
   "cell_type": "code",
   "execution_count": null,
   "metadata": {},
   "outputs": [],
   "source": []
  },
  {
   "cell_type": "code",
   "execution_count": null,
   "metadata": {},
   "outputs": [],
   "source": []
  },
  {
   "cell_type": "markdown",
   "metadata": {},
   "source": [
    "## Findings and conclusions"
   ]
  },
  {
   "cell_type": "code",
   "execution_count": null,
   "metadata": {},
   "outputs": [],
   "source": []
  },
  {
   "cell_type": "code",
   "execution_count": null,
   "metadata": {},
   "outputs": [],
   "source": []
  },
  {
   "cell_type": "code",
   "execution_count": null,
   "metadata": {},
   "outputs": [],
   "source": []
  },
  {
   "cell_type": "markdown",
   "metadata": {},
   "source": [
    "# 4 - Data transformation and feature eng."
   ]
  },
  {
   "cell_type": "markdown",
   "metadata": {},
   "source": [
    "## 4.1 - Discretization"
   ]
  },
  {
   "cell_type": "code",
   "execution_count": null,
   "metadata": {},
   "outputs": [],
   "source": []
  },
  {
   "cell_type": "code",
   "execution_count": null,
   "metadata": {},
   "outputs": [],
   "source": []
  },
  {
   "cell_type": "code",
   "execution_count": null,
   "metadata": {},
   "outputs": [],
   "source": []
  },
  {
   "cell_type": "markdown",
   "metadata": {},
   "source": [
    "## 4.11 - Findings and conclusions"
   ]
  },
  {
   "cell_type": "code",
   "execution_count": null,
   "metadata": {},
   "outputs": [],
   "source": []
  },
  {
   "cell_type": "code",
   "execution_count": null,
   "metadata": {},
   "outputs": [],
   "source": []
  },
  {
   "cell_type": "code",
   "execution_count": null,
   "metadata": {},
   "outputs": [],
   "source": []
  },
  {
   "cell_type": "markdown",
   "metadata": {},
   "source": [
    "## 4.2 - Encoding"
   ]
  },
  {
   "cell_type": "code",
   "execution_count": null,
   "metadata": {},
   "outputs": [],
   "source": []
  },
  {
   "cell_type": "code",
   "execution_count": null,
   "metadata": {},
   "outputs": [],
   "source": []
  },
  {
   "cell_type": "code",
   "execution_count": null,
   "metadata": {},
   "outputs": [],
   "source": []
  },
  {
   "cell_type": "markdown",
   "metadata": {},
   "source": [
    "## 4.22 - Findings and conlcusions"
   ]
  },
  {
   "cell_type": "code",
   "execution_count": null,
   "metadata": {},
   "outputs": [],
   "source": []
  },
  {
   "cell_type": "code",
   "execution_count": null,
   "metadata": {},
   "outputs": [],
   "source": []
  },
  {
   "cell_type": "code",
   "execution_count": null,
   "metadata": {},
   "outputs": [],
   "source": []
  },
  {
   "cell_type": "markdown",
   "metadata": {},
   "source": [
    "## 4.3 - Normalisation "
   ]
  },
  {
   "cell_type": "code",
   "execution_count": null,
   "metadata": {},
   "outputs": [],
   "source": []
  },
  {
   "cell_type": "code",
   "execution_count": null,
   "metadata": {},
   "outputs": [],
   "source": []
  },
  {
   "cell_type": "code",
   "execution_count": null,
   "metadata": {},
   "outputs": [],
   "source": []
  },
  {
   "cell_type": "markdown",
   "metadata": {},
   "source": [
    "## 4.31 - Findings and conclusions"
   ]
  },
  {
   "cell_type": "code",
   "execution_count": null,
   "metadata": {},
   "outputs": [],
   "source": []
  },
  {
   "cell_type": "code",
   "execution_count": null,
   "metadata": {},
   "outputs": [],
   "source": []
  },
  {
   "cell_type": "code",
   "execution_count": null,
   "metadata": {},
   "outputs": [],
   "source": []
  },
  {
   "cell_type": "markdown",
   "metadata": {},
   "source": [
    "## 4.4 - Adding more features(feature eng.)"
   ]
  },
  {
   "cell_type": "code",
   "execution_count": null,
   "metadata": {},
   "outputs": [],
   "source": []
  },
  {
   "cell_type": "code",
   "execution_count": null,
   "metadata": {},
   "outputs": [],
   "source": []
  },
  {
   "cell_type": "code",
   "execution_count": null,
   "metadata": {},
   "outputs": [],
   "source": []
  },
  {
   "cell_type": "markdown",
   "metadata": {},
   "source": [
    "## 4.41 - Findings and concluisons"
   ]
  },
  {
   "cell_type": "code",
   "execution_count": null,
   "metadata": {},
   "outputs": [],
   "source": []
  },
  {
   "cell_type": "code",
   "execution_count": null,
   "metadata": {},
   "outputs": [],
   "source": []
  },
  {
   "cell_type": "markdown",
   "metadata": {},
   "source": [
    "## 4.5 - Additional data extraction (GPS coordinates)"
   ]
  },
  {
   "cell_type": "code",
   "execution_count": null,
   "metadata": {},
   "outputs": [],
   "source": []
  },
  {
   "cell_type": "code",
   "execution_count": null,
   "metadata": {},
   "outputs": [],
   "source": []
  },
  {
   "cell_type": "markdown",
   "metadata": {},
   "source": [
    "## 4.6 - Csv file for lookup"
   ]
  },
  {
   "cell_type": "code",
   "execution_count": null,
   "metadata": {},
   "outputs": [],
   "source": []
  },
  {
   "cell_type": "code",
   "execution_count": null,
   "metadata": {},
   "outputs": [],
   "source": []
  },
  {
   "cell_type": "code",
   "execution_count": null,
   "metadata": {},
   "outputs": [],
   "source": []
  },
  {
   "cell_type": "markdown",
   "metadata": {},
   "source": [
    "## 5- Exporting the dataframe to a csv file or parquet"
   ]
  },
  {
   "cell_type": "code",
   "execution_count": null,
   "metadata": {},
   "outputs": [],
   "source": [
    "# replace df to df final\n",
    "# df.to_csv('final_result.csv', index=False, header=True)\n"
   ]
  },
  {
   "cell_type": "code",
   "execution_count": null,
   "metadata": {},
   "outputs": [],
   "source": [
    "# df.to_parquet('final_result.parquet', engine='pyarrow', compression='snappy')\n"
   ]
  }
 ],
 "metadata": {
  "kernelspec": {
   "display_name": "Python 3 (ipykernel)",
   "language": "python",
   "name": "python3"
  },
  "language_info": {
   "codemirror_mode": {
    "name": "ipython",
    "version": 3
   },
   "file_extension": ".py",
   "mimetype": "text/x-python",
   "name": "python",
   "nbconvert_exporter": "python",
   "pygments_lexer": "ipython3",
   "version": "3.11.0"
  }
 },
 "nbformat": 4,
 "nbformat_minor": 4
}
